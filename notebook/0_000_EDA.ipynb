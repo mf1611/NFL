{
 "cells": [
  {
   "cell_type": "code",
   "execution_count": 1,
   "metadata": {},
   "outputs": [
    {
     "name": "stdout",
     "output_type": "stream",
     "text": [
      "3.6.8 (default, Oct  7 2019, 12:59:55) \n",
      "[GCC 8.3.0]\n"
     ]
    }
   ],
   "source": [
    "import sys\n",
    "print(sys.version)"
   ]
  },
  {
   "cell_type": "code",
   "execution_count": 4,
   "metadata": {},
   "outputs": [
    {
     "data": {
      "text/plain": [
       "'/home/m-fuj/project/NFL/notebook'"
      ]
     },
     "execution_count": 4,
     "metadata": {},
     "output_type": "execute_result"
    }
   ],
   "source": [
    "import os\n",
    "os.getcwd()"
   ]
  },
  {
   "cell_type": "code",
   "execution_count": 2,
   "metadata": {},
   "outputs": [],
   "source": [
    "import pandas as pd\n",
    "import numpy as np\n",
    "import matplotlib.pyplot as plt\n",
    "import seaborn as sns\n",
    "import pandas_profiling\n",
    "\n",
    "pd.set_option('display.max_columns', None)"
   ]
  },
  {
   "cell_type": "code",
   "execution_count": 5,
   "metadata": {},
   "outputs": [
    {
     "name": "stderr",
     "output_type": "stream",
     "text": [
      "/home/m-fuj/.local/lib/python3.6/site-packages/IPython/core/interactiveshell.py:3058: DtypeWarning: Columns (47) have mixed types. Specify dtype option on import or set low_memory=False.\n",
      "  interactivity=interactivity, compiler=compiler, result=result)\n"
     ]
    },
    {
     "name": "stdout",
     "output_type": "stream",
     "text": [
      "(509762, 49)\n"
     ]
    },
    {
     "data": {
      "text/html": [
       "<div>\n",
       "<style scoped>\n",
       "    .dataframe tbody tr th:only-of-type {\n",
       "        vertical-align: middle;\n",
       "    }\n",
       "\n",
       "    .dataframe tbody tr th {\n",
       "        vertical-align: top;\n",
       "    }\n",
       "\n",
       "    .dataframe thead th {\n",
       "        text-align: right;\n",
       "    }\n",
       "</style>\n",
       "<table border=\"1\" class=\"dataframe\">\n",
       "  <thead>\n",
       "    <tr style=\"text-align: right;\">\n",
       "      <th></th>\n",
       "      <th>GameId</th>\n",
       "      <th>PlayId</th>\n",
       "      <th>Team</th>\n",
       "      <th>X</th>\n",
       "      <th>Y</th>\n",
       "      <th>S</th>\n",
       "      <th>A</th>\n",
       "      <th>Dis</th>\n",
       "      <th>Orientation</th>\n",
       "      <th>Dir</th>\n",
       "      <th>NflId</th>\n",
       "      <th>DisplayName</th>\n",
       "      <th>JerseyNumber</th>\n",
       "      <th>Season</th>\n",
       "      <th>YardLine</th>\n",
       "      <th>Quarter</th>\n",
       "      <th>GameClock</th>\n",
       "      <th>PossessionTeam</th>\n",
       "      <th>Down</th>\n",
       "      <th>Distance</th>\n",
       "      <th>FieldPosition</th>\n",
       "      <th>HomeScoreBeforePlay</th>\n",
       "      <th>VisitorScoreBeforePlay</th>\n",
       "      <th>NflIdRusher</th>\n",
       "      <th>OffenseFormation</th>\n",
       "      <th>OffensePersonnel</th>\n",
       "      <th>DefendersInTheBox</th>\n",
       "      <th>DefensePersonnel</th>\n",
       "      <th>PlayDirection</th>\n",
       "      <th>TimeHandoff</th>\n",
       "      <th>TimeSnap</th>\n",
       "      <th>Yards</th>\n",
       "      <th>PlayerHeight</th>\n",
       "      <th>PlayerWeight</th>\n",
       "      <th>PlayerBirthDate</th>\n",
       "      <th>PlayerCollegeName</th>\n",
       "      <th>Position</th>\n",
       "      <th>HomeTeamAbbr</th>\n",
       "      <th>VisitorTeamAbbr</th>\n",
       "      <th>Week</th>\n",
       "      <th>Stadium</th>\n",
       "      <th>Location</th>\n",
       "      <th>StadiumType</th>\n",
       "      <th>Turf</th>\n",
       "      <th>GameWeather</th>\n",
       "      <th>Temperature</th>\n",
       "      <th>Humidity</th>\n",
       "      <th>WindSpeed</th>\n",
       "      <th>WindDirection</th>\n",
       "    </tr>\n",
       "  </thead>\n",
       "  <tbody>\n",
       "    <tr>\n",
       "      <th>382508</th>\n",
       "      <td>2018110404</td>\n",
       "      <td>20181104040387</td>\n",
       "      <td>home</td>\n",
       "      <td>63.56</td>\n",
       "      <td>23.42</td>\n",
       "      <td>3.59</td>\n",
       "      <td>0.81</td>\n",
       "      <td>0.36</td>\n",
       "      <td>118.86</td>\n",
       "      <td>183.42</td>\n",
       "      <td>2543755</td>\n",
       "      <td>Ja'Wuan James</td>\n",
       "      <td>70</td>\n",
       "      <td>2018</td>\n",
       "      <td>45</td>\n",
       "      <td>1</td>\n",
       "      <td>07:47:00</td>\n",
       "      <td>MIA</td>\n",
       "      <td>3</td>\n",
       "      <td>1</td>\n",
       "      <td>NYJ</td>\n",
       "      <td>0</td>\n",
       "      <td>0</td>\n",
       "      <td>2506404</td>\n",
       "      <td>SINGLEBACK</td>\n",
       "      <td>1 RB, 1 TE, 3 WR</td>\n",
       "      <td>7.0</td>\n",
       "      <td>3 DL, 3 LB, 5 DB</td>\n",
       "      <td>right</td>\n",
       "      <td>2018-11-04T18:17:32.000Z</td>\n",
       "      <td>2018-11-04T18:17:31.000Z</td>\n",
       "      <td>-3</td>\n",
       "      <td>6-6</td>\n",
       "      <td>312</td>\n",
       "      <td>06/03/1992</td>\n",
       "      <td>Tennessee</td>\n",
       "      <td>OT</td>\n",
       "      <td>MIA</td>\n",
       "      <td>NYJ</td>\n",
       "      <td>9</td>\n",
       "      <td>Hard Rock Stadium</td>\n",
       "      <td>Miami Gardens, Fla.</td>\n",
       "      <td>Outdoor</td>\n",
       "      <td>Natural Grass</td>\n",
       "      <td>Partly Sunny</td>\n",
       "      <td>87.0</td>\n",
       "      <td>62.0</td>\n",
       "      <td>16</td>\n",
       "      <td>SSE</td>\n",
       "    </tr>\n",
       "    <tr>\n",
       "      <th>275959</th>\n",
       "      <td>2018091000</td>\n",
       "      <td>20180910001480</td>\n",
       "      <td>home</td>\n",
       "      <td>97.23</td>\n",
       "      <td>22.98</td>\n",
       "      <td>3.85</td>\n",
       "      <td>2.25</td>\n",
       "      <td>0.37</td>\n",
       "      <td>270.17</td>\n",
       "      <td>317.05</td>\n",
       "      <td>497149</td>\n",
       "      <td>LeGarrette Blount</td>\n",
       "      <td>29</td>\n",
       "      <td>2018</td>\n",
       "      <td>17</td>\n",
       "      <td>2</td>\n",
       "      <td>04:17:00</td>\n",
       "      <td>DET</td>\n",
       "      <td>1</td>\n",
       "      <td>10</td>\n",
       "      <td>DET</td>\n",
       "      <td>7</td>\n",
       "      <td>10</td>\n",
       "      <td>497149</td>\n",
       "      <td>SHOTGUN</td>\n",
       "      <td>1 RB, 1 TE, 3 WR</td>\n",
       "      <td>7.0</td>\n",
       "      <td>3 DL, 3 LB, 5 DB</td>\n",
       "      <td>left</td>\n",
       "      <td>2018-09-11T00:21:19.000Z</td>\n",
       "      <td>2018-09-11T00:21:18.000Z</td>\n",
       "      <td>3</td>\n",
       "      <td>6-0</td>\n",
       "      <td>247</td>\n",
       "      <td>12/05/1986</td>\n",
       "      <td>Oregon</td>\n",
       "      <td>RB</td>\n",
       "      <td>DET</td>\n",
       "      <td>NYJ</td>\n",
       "      <td>1</td>\n",
       "      <td>Ford Field</td>\n",
       "      <td>Detroit, MI</td>\n",
       "      <td>Indoors</td>\n",
       "      <td>Field Turf</td>\n",
       "      <td>Controlled Climate</td>\n",
       "      <td>68.0</td>\n",
       "      <td>70.0</td>\n",
       "      <td>NaN</td>\n",
       "      <td>NaN</td>\n",
       "    </tr>\n",
       "    <tr>\n",
       "      <th>44982</th>\n",
       "      <td>2017092412</td>\n",
       "      <td>20170924123767</td>\n",
       "      <td>home</td>\n",
       "      <td>43.54</td>\n",
       "      <td>22.24</td>\n",
       "      <td>3.74</td>\n",
       "      <td>0.70</td>\n",
       "      <td>0.47</td>\n",
       "      <td>167.02</td>\n",
       "      <td>189.09</td>\n",
       "      <td>2534567</td>\n",
       "      <td>Korey Toomer</td>\n",
       "      <td>56</td>\n",
       "      <td>2017</td>\n",
       "      <td>31</td>\n",
       "      <td>4</td>\n",
       "      <td>02:00:00</td>\n",
       "      <td>KC</td>\n",
       "      <td>1</td>\n",
       "      <td>10</td>\n",
       "      <td>KC</td>\n",
       "      <td>10</td>\n",
       "      <td>17</td>\n",
       "      <td>2557917</td>\n",
       "      <td>I_FORM</td>\n",
       "      <td>2 RB, 2 TE, 1 WR</td>\n",
       "      <td>8.0</td>\n",
       "      <td>4 DL, 3 LB, 4 DB</td>\n",
       "      <td>right</td>\n",
       "      <td>2017-09-24T23:24:55.000Z</td>\n",
       "      <td>2017-09-24T23:24:54.000Z</td>\n",
       "      <td>69</td>\n",
       "      <td>6-2</td>\n",
       "      <td>235</td>\n",
       "      <td>12/09/1988</td>\n",
       "      <td>Idaho</td>\n",
       "      <td>MLB</td>\n",
       "      <td>LAC</td>\n",
       "      <td>KC</td>\n",
       "      <td>3</td>\n",
       "      <td>StubHub Center</td>\n",
       "      <td>Carson, CA</td>\n",
       "      <td>NaN</td>\n",
       "      <td>Grass</td>\n",
       "      <td>Sunny</td>\n",
       "      <td>84.0</td>\n",
       "      <td>25.0</td>\n",
       "      <td>5</td>\n",
       "      <td>W</td>\n",
       "    </tr>\n",
       "    <tr>\n",
       "      <th>26728</th>\n",
       "      <td>2017091711</td>\n",
       "      <td>20170917110349</td>\n",
       "      <td>home</td>\n",
       "      <td>55.85</td>\n",
       "      <td>26.20</td>\n",
       "      <td>1.41</td>\n",
       "      <td>1.71</td>\n",
       "      <td>0.20</td>\n",
       "      <td>206.21</td>\n",
       "      <td>254.53</td>\n",
       "      <td>2550449</td>\n",
       "      <td>Ethan Westbrooks</td>\n",
       "      <td>93</td>\n",
       "      <td>2017</td>\n",
       "      <td>48</td>\n",
       "      <td>1</td>\n",
       "      <td>09:06:00</td>\n",
       "      <td>WAS</td>\n",
       "      <td>1</td>\n",
       "      <td>10</td>\n",
       "      <td>WAS</td>\n",
       "      <td>0</td>\n",
       "      <td>0</td>\n",
       "      <td>2556414</td>\n",
       "      <td>I_FORM</td>\n",
       "      <td>1 RB, 2 TE, 2 WR</td>\n",
       "      <td>7.0</td>\n",
       "      <td>3 DL, 4 LB, 4 DB</td>\n",
       "      <td>right</td>\n",
       "      <td>2017-09-17T20:37:24.000Z</td>\n",
       "      <td>2017-09-17T20:37:23.000Z</td>\n",
       "      <td>5</td>\n",
       "      <td>6-4</td>\n",
       "      <td>287</td>\n",
       "      <td>11/15/1990</td>\n",
       "      <td>West Texas A&amp;M</td>\n",
       "      <td>DE</td>\n",
       "      <td>LA</td>\n",
       "      <td>WAS</td>\n",
       "      <td>2</td>\n",
       "      <td>Los Angeles Memorial Coliseum</td>\n",
       "      <td>Los Angeles, Calif.</td>\n",
       "      <td>Outdoor</td>\n",
       "      <td>Grass</td>\n",
       "      <td>Cloudy</td>\n",
       "      <td>76.0</td>\n",
       "      <td>59.0</td>\n",
       "      <td>3</td>\n",
       "      <td>SW</td>\n",
       "    </tr>\n",
       "    <tr>\n",
       "      <th>138809</th>\n",
       "      <td>2017111202</td>\n",
       "      <td>20171112022207</td>\n",
       "      <td>home</td>\n",
       "      <td>34.98</td>\n",
       "      <td>23.32</td>\n",
       "      <td>2.08</td>\n",
       "      <td>1.78</td>\n",
       "      <td>0.26</td>\n",
       "      <td>335.09</td>\n",
       "      <td>18.44</td>\n",
       "      <td>71441</td>\n",
       "      <td>Glover Quin</td>\n",
       "      <td>27</td>\n",
       "      <td>2017</td>\n",
       "      <td>39</td>\n",
       "      <td>3</td>\n",
       "      <td>12:07:00</td>\n",
       "      <td>CLV</td>\n",
       "      <td>2</td>\n",
       "      <td>4</td>\n",
       "      <td>DET</td>\n",
       "      <td>17</td>\n",
       "      <td>10</td>\n",
       "      <td>2552461</td>\n",
       "      <td>SHOTGUN</td>\n",
       "      <td>1 RB, 1 TE, 3 WR</td>\n",
       "      <td>6.0</td>\n",
       "      <td>4 DL, 2 LB, 5 DB</td>\n",
       "      <td>left</td>\n",
       "      <td>2017-11-12T19:48:01.000Z</td>\n",
       "      <td>2017-11-12T19:47:59.000Z</td>\n",
       "      <td>19</td>\n",
       "      <td>6-0</td>\n",
       "      <td>207</td>\n",
       "      <td>01/15/1986</td>\n",
       "      <td>New Mexico</td>\n",
       "      <td>FS</td>\n",
       "      <td>DET</td>\n",
       "      <td>CLE</td>\n",
       "      <td>10</td>\n",
       "      <td>Ford Field</td>\n",
       "      <td>Detroit, MI</td>\n",
       "      <td>Indoors</td>\n",
       "      <td>Field Turf</td>\n",
       "      <td>Controlled Climate</td>\n",
       "      <td>68.0</td>\n",
       "      <td>70.0</td>\n",
       "      <td>NaN</td>\n",
       "      <td>NaN</td>\n",
       "    </tr>\n",
       "    <tr>\n",
       "      <th>264254</th>\n",
       "      <td>2018090901</td>\n",
       "      <td>20180909012222</td>\n",
       "      <td>home</td>\n",
       "      <td>48.06</td>\n",
       "      <td>34.33</td>\n",
       "      <td>2.96</td>\n",
       "      <td>0.70</td>\n",
       "      <td>0.33</td>\n",
       "      <td>341.08</td>\n",
       "      <td>358.12</td>\n",
       "      <td>2532980</td>\n",
       "      <td>Kevin Zeitler</td>\n",
       "      <td>70</td>\n",
       "      <td>2018</td>\n",
       "      <td>37</td>\n",
       "      <td>3</td>\n",
       "      <td>11:21:00</td>\n",
       "      <td>CLV</td>\n",
       "      <td>1</td>\n",
       "      <td>10</td>\n",
       "      <td>PIT</td>\n",
       "      <td>0</td>\n",
       "      <td>7</td>\n",
       "      <td>2561021</td>\n",
       "      <td>I_FORM</td>\n",
       "      <td>1 RB, 2 TE, 2 WR</td>\n",
       "      <td>7.0</td>\n",
       "      <td>3 DL, 4 LB, 4 DB</td>\n",
       "      <td>left</td>\n",
       "      <td>2018-09-09T18:44:08.000Z</td>\n",
       "      <td>2018-09-09T18:44:06.000Z</td>\n",
       "      <td>17</td>\n",
       "      <td>6-4</td>\n",
       "      <td>315</td>\n",
       "      <td>03/08/1990</td>\n",
       "      <td>Wisconsin</td>\n",
       "      <td>G</td>\n",
       "      <td>CLE</td>\n",
       "      <td>PIT</td>\n",
       "      <td>1</td>\n",
       "      <td>FirstEnergy Stadium</td>\n",
       "      <td>Cleveland, Ohio</td>\n",
       "      <td>Outdoor</td>\n",
       "      <td>Grass</td>\n",
       "      <td>Rain</td>\n",
       "      <td>58.0</td>\n",
       "      <td>84.0</td>\n",
       "      <td>11</td>\n",
       "      <td>East</td>\n",
       "    </tr>\n",
       "    <tr>\n",
       "      <th>52277</th>\n",
       "      <td>2017100104</td>\n",
       "      <td>20171001040632</td>\n",
       "      <td>away</td>\n",
       "      <td>59.57</td>\n",
       "      <td>15.42</td>\n",
       "      <td>1.81</td>\n",
       "      <td>0.40</td>\n",
       "      <td>0.27</td>\n",
       "      <td>225.81</td>\n",
       "      <td>28.68</td>\n",
       "      <td>2540291</td>\n",
       "      <td>Kayvon Webster</td>\n",
       "      <td>21</td>\n",
       "      <td>2017</td>\n",
       "      <td>48</td>\n",
       "      <td>1</td>\n",
       "      <td>04:35:00</td>\n",
       "      <td>DAL</td>\n",
       "      <td>1</td>\n",
       "      <td>10</td>\n",
       "      <td>DAL</td>\n",
       "      <td>3</td>\n",
       "      <td>3</td>\n",
       "      <td>2555224</td>\n",
       "      <td>I_FORM</td>\n",
       "      <td>2 RB, 1 TE, 2 WR</td>\n",
       "      <td>8.0</td>\n",
       "      <td>3 DL, 4 LB, 4 DB</td>\n",
       "      <td>right</td>\n",
       "      <td>2017-10-01T17:24:45.000Z</td>\n",
       "      <td>2017-10-01T17:24:44.000Z</td>\n",
       "      <td>1</td>\n",
       "      <td>5-11</td>\n",
       "      <td>190</td>\n",
       "      <td>02/01/1991</td>\n",
       "      <td>South Florida</td>\n",
       "      <td>CB</td>\n",
       "      <td>DAL</td>\n",
       "      <td>LA</td>\n",
       "      <td>4</td>\n",
       "      <td>AT&amp;T Stadium</td>\n",
       "      <td>Arlington, Texas</td>\n",
       "      <td>Indoor</td>\n",
       "      <td>Artificial</td>\n",
       "      <td>NaN</td>\n",
       "      <td>NaN</td>\n",
       "      <td>0.0</td>\n",
       "      <td>NaN</td>\n",
       "      <td>NaN</td>\n",
       "    </tr>\n",
       "    <tr>\n",
       "      <th>105523</th>\n",
       "      <td>2017102210</td>\n",
       "      <td>20171022103221</td>\n",
       "      <td>home</td>\n",
       "      <td>71.99</td>\n",
       "      <td>21.98</td>\n",
       "      <td>2.10</td>\n",
       "      <td>1.30</td>\n",
       "      <td>0.21</td>\n",
       "      <td>228.69</td>\n",
       "      <td>331.03</td>\n",
       "      <td>497032</td>\n",
       "      <td>Russell Okung</td>\n",
       "      <td>76</td>\n",
       "      <td>2017</td>\n",
       "      <td>38</td>\n",
       "      <td>4</td>\n",
       "      <td>07:58:00</td>\n",
       "      <td>LAC</td>\n",
       "      <td>1</td>\n",
       "      <td>10</td>\n",
       "      <td>LAC</td>\n",
       "      <td>14</td>\n",
       "      <td>0</td>\n",
       "      <td>2552469</td>\n",
       "      <td>SHOTGUN</td>\n",
       "      <td>1 RB, 1 TE, 3 WR</td>\n",
       "      <td>7.0</td>\n",
       "      <td>2 DL, 3 LB, 6 DB</td>\n",
       "      <td>left</td>\n",
       "      <td>2017-10-22T22:52:34.000Z</td>\n",
       "      <td>2017-10-22T22:52:33.000Z</td>\n",
       "      <td>21</td>\n",
       "      <td>6-5</td>\n",
       "      <td>310</td>\n",
       "      <td>10/07/1988</td>\n",
       "      <td>Oklahoma State</td>\n",
       "      <td>T</td>\n",
       "      <td>LAC</td>\n",
       "      <td>DEN</td>\n",
       "      <td>7</td>\n",
       "      <td>StubHub Center</td>\n",
       "      <td>Carson, CA</td>\n",
       "      <td>NaN</td>\n",
       "      <td>Grass</td>\n",
       "      <td>Sunny</td>\n",
       "      <td>90.0</td>\n",
       "      <td>15.0</td>\n",
       "      <td>4</td>\n",
       "      <td>W</td>\n",
       "    </tr>\n",
       "    <tr>\n",
       "      <th>276355</th>\n",
       "      <td>2018091000</td>\n",
       "      <td>20180910003702</td>\n",
       "      <td>home</td>\n",
       "      <td>69.92</td>\n",
       "      <td>30.56</td>\n",
       "      <td>1.31</td>\n",
       "      <td>1.45</td>\n",
       "      <td>0.15</td>\n",
       "      <td>279.46</td>\n",
       "      <td>350.67</td>\n",
       "      <td>2539270</td>\n",
       "      <td>Sylvester Williams</td>\n",
       "      <td>92</td>\n",
       "      <td>2018</td>\n",
       "      <td>40</td>\n",
       "      <td>4</td>\n",
       "      <td>06:31:00</td>\n",
       "      <td>NYJ</td>\n",
       "      <td>1</td>\n",
       "      <td>10</td>\n",
       "      <td>DET</td>\n",
       "      <td>17</td>\n",
       "      <td>48</td>\n",
       "      <td>2561137</td>\n",
       "      <td>SINGLEBACK</td>\n",
       "      <td>1 RB, 2 TE, 2 WR</td>\n",
       "      <td>7.0</td>\n",
       "      <td>4 DL, 3 LB, 4 DB</td>\n",
       "      <td>right</td>\n",
       "      <td>2018-09-11T02:16:04.000Z</td>\n",
       "      <td>2018-09-11T02:16:02.000Z</td>\n",
       "      <td>5</td>\n",
       "      <td>6-2</td>\n",
       "      <td>328</td>\n",
       "      <td>11/21/1988</td>\n",
       "      <td>North Carolina</td>\n",
       "      <td>DT</td>\n",
       "      <td>DET</td>\n",
       "      <td>NYJ</td>\n",
       "      <td>1</td>\n",
       "      <td>Ford Field</td>\n",
       "      <td>Detroit, MI</td>\n",
       "      <td>Indoors</td>\n",
       "      <td>Field Turf</td>\n",
       "      <td>Controlled Climate</td>\n",
       "      <td>68.0</td>\n",
       "      <td>70.0</td>\n",
       "      <td>NaN</td>\n",
       "      <td>NaN</td>\n",
       "    </tr>\n",
       "    <tr>\n",
       "      <th>375783</th>\n",
       "      <td>2018102810</td>\n",
       "      <td>20181028103204</td>\n",
       "      <td>away</td>\n",
       "      <td>36.85</td>\n",
       "      <td>21.30</td>\n",
       "      <td>3.14</td>\n",
       "      <td>2.38</td>\n",
       "      <td>0.30</td>\n",
       "      <td>282.90</td>\n",
       "      <td>39.60</td>\n",
       "      <td>2506789</td>\n",
       "      <td>Tramon Williams</td>\n",
       "      <td>38</td>\n",
       "      <td>2018</td>\n",
       "      <td>25</td>\n",
       "      <td>3</td>\n",
       "      <td>00:13:00</td>\n",
       "      <td>LA</td>\n",
       "      <td>1</td>\n",
       "      <td>10</td>\n",
       "      <td>LA</td>\n",
       "      <td>23</td>\n",
       "      <td>20</td>\n",
       "      <td>2552475</td>\n",
       "      <td>SINGLEBACK</td>\n",
       "      <td>1 RB, 1 TE, 3 WR</td>\n",
       "      <td>6.0</td>\n",
       "      <td>2 DL, 3 LB, 6 DB</td>\n",
       "      <td>right</td>\n",
       "      <td>2018-10-28T22:58:55.000Z</td>\n",
       "      <td>2018-10-28T22:58:53.000Z</td>\n",
       "      <td>8</td>\n",
       "      <td>5-11</td>\n",
       "      <td>192</td>\n",
       "      <td>03/16/1983</td>\n",
       "      <td>Louisiana Tech</td>\n",
       "      <td>CB</td>\n",
       "      <td>LA</td>\n",
       "      <td>GB</td>\n",
       "      <td>8</td>\n",
       "      <td>Los Angeles Memorial Coliseum</td>\n",
       "      <td>Los Angeles, Calif.</td>\n",
       "      <td>Outdoor</td>\n",
       "      <td>Grass</td>\n",
       "      <td>Cloudy</td>\n",
       "      <td>82.0</td>\n",
       "      <td>39.0</td>\n",
       "      <td>1</td>\n",
       "      <td>SW</td>\n",
       "    </tr>\n",
       "    <tr>\n",
       "      <th>79573</th>\n",
       "      <td>2017101500</td>\n",
       "      <td>20171015002589</td>\n",
       "      <td>home</td>\n",
       "      <td>82.04</td>\n",
       "      <td>27.35</td>\n",
       "      <td>5.21</td>\n",
       "      <td>1.91</td>\n",
       "      <td>0.50</td>\n",
       "      <td>166.77</td>\n",
       "      <td>211.62</td>\n",
       "      <td>2556373</td>\n",
       "      <td>Wes Schweitzer</td>\n",
       "      <td>71</td>\n",
       "      <td>2017</td>\n",
       "      <td>27</td>\n",
       "      <td>3</td>\n",
       "      <td>00:50:00</td>\n",
       "      <td>ATL</td>\n",
       "      <td>2</td>\n",
       "      <td>8</td>\n",
       "      <td>ATL</td>\n",
       "      <td>17</td>\n",
       "      <td>14</td>\n",
       "      <td>2552453</td>\n",
       "      <td>SINGLEBACK</td>\n",
       "      <td>1 RB, 2 TE, 2 WR</td>\n",
       "      <td>7.0</td>\n",
       "      <td>4 DL, 3 LB, 4 DB</td>\n",
       "      <td>left</td>\n",
       "      <td>2017-10-15T19:11:58.000Z</td>\n",
       "      <td>2017-10-15T19:11:57.000Z</td>\n",
       "      <td>20</td>\n",
       "      <td>6-4</td>\n",
       "      <td>314</td>\n",
       "      <td>09/11/1993</td>\n",
       "      <td>San Jose State</td>\n",
       "      <td>G</td>\n",
       "      <td>ATL</td>\n",
       "      <td>MIA</td>\n",
       "      <td>6</td>\n",
       "      <td>Mercedes-Benz Stadium</td>\n",
       "      <td>Atlanta, GA</td>\n",
       "      <td>Indoor, Roof Closed</td>\n",
       "      <td>FieldTurf 360</td>\n",
       "      <td>Indoors</td>\n",
       "      <td>NaN</td>\n",
       "      <td>0.0</td>\n",
       "      <td>NaN</td>\n",
       "      <td>NaN</td>\n",
       "    </tr>\n",
       "    <tr>\n",
       "      <th>140477</th>\n",
       "      <td>2017111204</td>\n",
       "      <td>20171112040270</td>\n",
       "      <td>away</td>\n",
       "      <td>57.61</td>\n",
       "      <td>33.93</td>\n",
       "      <td>2.29</td>\n",
       "      <td>0.13</td>\n",
       "      <td>0.33</td>\n",
       "      <td>34.47</td>\n",
       "      <td>160.98</td>\n",
       "      <td>2552296</td>\n",
       "      <td>Kyle Emanuel</td>\n",
       "      <td>51</td>\n",
       "      <td>2017</td>\n",
       "      <td>48</td>\n",
       "      <td>1</td>\n",
       "      <td>10:02:00</td>\n",
       "      <td>JAX</td>\n",
       "      <td>2</td>\n",
       "      <td>10</td>\n",
       "      <td>LAC</td>\n",
       "      <td>0</td>\n",
       "      <td>0</td>\n",
       "      <td>2557973</td>\n",
       "      <td>I_FORM</td>\n",
       "      <td>2 RB, 1 TE, 2 WR</td>\n",
       "      <td>7.0</td>\n",
       "      <td>4 DL, 3 LB, 4 DB</td>\n",
       "      <td>left</td>\n",
       "      <td>2017-11-12T18:11:59.000Z</td>\n",
       "      <td>2017-11-12T18:11:58.000Z</td>\n",
       "      <td>8</td>\n",
       "      <td>6-3</td>\n",
       "      <td>250</td>\n",
       "      <td>08/16/1991</td>\n",
       "      <td>North Dakota State</td>\n",
       "      <td>OLB</td>\n",
       "      <td>JAX</td>\n",
       "      <td>LAC</td>\n",
       "      <td>10</td>\n",
       "      <td>EverBank Field</td>\n",
       "      <td>Jacksonville, FL</td>\n",
       "      <td>Open</td>\n",
       "      <td>Grass</td>\n",
       "      <td>NaN</td>\n",
       "      <td>76.0</td>\n",
       "      <td>75.0</td>\n",
       "      <td>5</td>\n",
       "      <td>NE</td>\n",
       "    </tr>\n",
       "    <tr>\n",
       "      <th>95893</th>\n",
       "      <td>2017102202</td>\n",
       "      <td>20171022020087</td>\n",
       "      <td>home</td>\n",
       "      <td>62.60</td>\n",
       "      <td>32.17</td>\n",
       "      <td>0.64</td>\n",
       "      <td>2.12</td>\n",
       "      <td>0.09</td>\n",
       "      <td>74.52</td>\n",
       "      <td>18.52</td>\n",
       "      <td>2555278</td>\n",
       "      <td>Emmanuel Ogbah</td>\n",
       "      <td>90</td>\n",
       "      <td>2017</td>\n",
       "      <td>48</td>\n",
       "      <td>1</td>\n",
       "      <td>14:26:00</td>\n",
       "      <td>TEN</td>\n",
       "      <td>1</td>\n",
       "      <td>10</td>\n",
       "      <td>TEN</td>\n",
       "      <td>0</td>\n",
       "      <td>0</td>\n",
       "      <td>2495207</td>\n",
       "      <td>SINGLEBACK</td>\n",
       "      <td>1 RB, 2 TE, 2 WR</td>\n",
       "      <td>6.0</td>\n",
       "      <td>4 DL, 3 LB, 4 DB</td>\n",
       "      <td>left</td>\n",
       "      <td>2017-10-22T17:03:48.000Z</td>\n",
       "      <td>2017-10-22T17:03:47.000Z</td>\n",
       "      <td>9</td>\n",
       "      <td>6-4</td>\n",
       "      <td>275</td>\n",
       "      <td>11/06/1993</td>\n",
       "      <td>Oklahoma State</td>\n",
       "      <td>DE</td>\n",
       "      <td>CLE</td>\n",
       "      <td>TEN</td>\n",
       "      <td>7</td>\n",
       "      <td>FirstEnergy Stadium</td>\n",
       "      <td>Cleveland, Ohio</td>\n",
       "      <td>Outdoor</td>\n",
       "      <td>Grass</td>\n",
       "      <td>Sunny</td>\n",
       "      <td>74.0</td>\n",
       "      <td>56.0</td>\n",
       "      <td>12</td>\n",
       "      <td>South</td>\n",
       "    </tr>\n",
       "    <tr>\n",
       "      <th>401261</th>\n",
       "      <td>2018111110</td>\n",
       "      <td>20181111100457</td>\n",
       "      <td>away</td>\n",
       "      <td>51.29</td>\n",
       "      <td>29.59</td>\n",
       "      <td>4.59</td>\n",
       "      <td>0.53</td>\n",
       "      <td>0.47</td>\n",
       "      <td>28.51</td>\n",
       "      <td>359.42</td>\n",
       "      <td>2539288</td>\n",
       "      <td>Dion Jordan</td>\n",
       "      <td>95</td>\n",
       "      <td>2018</td>\n",
       "      <td>42</td>\n",
       "      <td>1</td>\n",
       "      <td>08:36:00</td>\n",
       "      <td>LA</td>\n",
       "      <td>2</td>\n",
       "      <td>1</td>\n",
       "      <td>SEA</td>\n",
       "      <td>0</td>\n",
       "      <td>7</td>\n",
       "      <td>2552475</td>\n",
       "      <td>SINGLEBACK</td>\n",
       "      <td>1 RB, 1 TE, 3 WR</td>\n",
       "      <td>6.0</td>\n",
       "      <td>4 DL, 2 LB, 5 DB</td>\n",
       "      <td>left</td>\n",
       "      <td>2018-11-11T21:40:09.000Z</td>\n",
       "      <td>2018-11-11T21:40:08.000Z</td>\n",
       "      <td>4</td>\n",
       "      <td>6-6</td>\n",
       "      <td>284</td>\n",
       "      <td>03/05/1990</td>\n",
       "      <td>Oregon</td>\n",
       "      <td>DE</td>\n",
       "      <td>LA</td>\n",
       "      <td>SEA</td>\n",
       "      <td>10</td>\n",
       "      <td>Los Angeles Memorial Coliseum</td>\n",
       "      <td>Los Angeles, Calif.</td>\n",
       "      <td>Outdoor</td>\n",
       "      <td>Grass</td>\n",
       "      <td>Sunny</td>\n",
       "      <td>75.0</td>\n",
       "      <td>20.0</td>\n",
       "      <td>1</td>\n",
       "      <td>NNW</td>\n",
       "    </tr>\n",
       "    <tr>\n",
       "      <th>133955</th>\n",
       "      <td>2017110510</td>\n",
       "      <td>20171105102717</td>\n",
       "      <td>home</td>\n",
       "      <td>65.76</td>\n",
       "      <td>44.54</td>\n",
       "      <td>1.60</td>\n",
       "      <td>1.09</td>\n",
       "      <td>0.22</td>\n",
       "      <td>197.03</td>\n",
       "      <td>58.03</td>\n",
       "      <td>2555539</td>\n",
       "      <td>Xavien Howard</td>\n",
       "      <td>25</td>\n",
       "      <td>2017</td>\n",
       "      <td>45</td>\n",
       "      <td>3</td>\n",
       "      <td>00:53:00</td>\n",
       "      <td>OAK</td>\n",
       "      <td>2</td>\n",
       "      <td>5</td>\n",
       "      <td>MIA</td>\n",
       "      <td>16</td>\n",
       "      <td>20</td>\n",
       "      <td>2556885</td>\n",
       "      <td>SINGLEBACK</td>\n",
       "      <td>1 RB, 2 TE, 2 WR</td>\n",
       "      <td>8.0</td>\n",
       "      <td>4 DL, 3 LB, 4 DB</td>\n",
       "      <td>right</td>\n",
       "      <td>2017-11-06T03:36:24.000Z</td>\n",
       "      <td>2017-11-06T03:36:23.000Z</td>\n",
       "      <td>0</td>\n",
       "      <td>6-1</td>\n",
       "      <td>200</td>\n",
       "      <td>07/04/1993</td>\n",
       "      <td>Baylor</td>\n",
       "      <td>CB</td>\n",
       "      <td>MIA</td>\n",
       "      <td>OAK</td>\n",
       "      <td>9</td>\n",
       "      <td>Hard Rock Stadium</td>\n",
       "      <td>Miami Gardens, Fla.</td>\n",
       "      <td>Outdoor</td>\n",
       "      <td>Natural Grass</td>\n",
       "      <td>NaN</td>\n",
       "      <td>77.0</td>\n",
       "      <td>82.0</td>\n",
       "      <td>2</td>\n",
       "      <td>N</td>\n",
       "    </tr>\n",
       "    <tr>\n",
       "      <th>56728</th>\n",
       "      <td>2017100108</td>\n",
       "      <td>20171001081280</td>\n",
       "      <td>home</td>\n",
       "      <td>46.90</td>\n",
       "      <td>41.50</td>\n",
       "      <td>1.58</td>\n",
       "      <td>1.58</td>\n",
       "      <td>0.25</td>\n",
       "      <td>35.20</td>\n",
       "      <td>234.82</td>\n",
       "      <td>2533059</td>\n",
       "      <td>Morris Claiborne</td>\n",
       "      <td>21</td>\n",
       "      <td>2017</td>\n",
       "      <td>48</td>\n",
       "      <td>2</td>\n",
       "      <td>07:30:00</td>\n",
       "      <td>JAX</td>\n",
       "      <td>1</td>\n",
       "      <td>10</td>\n",
       "      <td>NYJ</td>\n",
       "      <td>7</td>\n",
       "      <td>7</td>\n",
       "      <td>2557973</td>\n",
       "      <td>SINGLEBACK</td>\n",
       "      <td>1 RB, 3 TE, 1 WR</td>\n",
       "      <td>7.0</td>\n",
       "      <td>3 DL, 4 LB, 4 DB</td>\n",
       "      <td>left</td>\n",
       "      <td>2017-10-01T17:54:33.000Z</td>\n",
       "      <td>2017-10-01T17:54:32.000Z</td>\n",
       "      <td>4</td>\n",
       "      <td>5-11</td>\n",
       "      <td>192</td>\n",
       "      <td>02/07/1990</td>\n",
       "      <td>Louisiana State</td>\n",
       "      <td>CB</td>\n",
       "      <td>NYJ</td>\n",
       "      <td>JAX</td>\n",
       "      <td>4</td>\n",
       "      <td>MetLife</td>\n",
       "      <td>E. Rutherford, NJ</td>\n",
       "      <td>Outdoor</td>\n",
       "      <td>FieldTurf</td>\n",
       "      <td>Sunny</td>\n",
       "      <td>64.0</td>\n",
       "      <td>44.0</td>\n",
       "      <td>5</td>\n",
       "      <td>NNE</td>\n",
       "    </tr>\n",
       "    <tr>\n",
       "      <th>402741</th>\n",
       "      <td>2018111111</td>\n",
       "      <td>20181111113144</td>\n",
       "      <td>away</td>\n",
       "      <td>53.50</td>\n",
       "      <td>25.62</td>\n",
       "      <td>3.09</td>\n",
       "      <td>0.85</td>\n",
       "      <td>0.30</td>\n",
       "      <td>103.42</td>\n",
       "      <td>276.40</td>\n",
       "      <td>2558159</td>\n",
       "      <td>Xavier Woods</td>\n",
       "      <td>25</td>\n",
       "      <td>2018</td>\n",
       "      <td>41</td>\n",
       "      <td>4</td>\n",
       "      <td>10:10:00</td>\n",
       "      <td>PHI</td>\n",
       "      <td>1</td>\n",
       "      <td>10</td>\n",
       "      <td>PHI</td>\n",
       "      <td>13</td>\n",
       "      <td>20</td>\n",
       "      <td>2559150</td>\n",
       "      <td>SHOTGUN</td>\n",
       "      <td>1 RB, 1 TE, 3 WR</td>\n",
       "      <td>7.0</td>\n",
       "      <td>4 DL, 2 LB, 5 DB</td>\n",
       "      <td>left</td>\n",
       "      <td>2018-11-12T03:53:02.000Z</td>\n",
       "      <td>2018-11-12T03:53:01.000Z</td>\n",
       "      <td>0</td>\n",
       "      <td>5-11</td>\n",
       "      <td>202</td>\n",
       "      <td>07/26/1995</td>\n",
       "      <td>Louisiana Tech</td>\n",
       "      <td>FS</td>\n",
       "      <td>PHI</td>\n",
       "      <td>DAL</td>\n",
       "      <td>10</td>\n",
       "      <td>Lincoln Financial Field</td>\n",
       "      <td>Philadelphia, Pa.</td>\n",
       "      <td>Outdoor</td>\n",
       "      <td>Grass</td>\n",
       "      <td>Clear</td>\n",
       "      <td>38.0</td>\n",
       "      <td>62.0</td>\n",
       "      <td>5</td>\n",
       "      <td>SW</td>\n",
       "    </tr>\n",
       "    <tr>\n",
       "      <th>139507</th>\n",
       "      <td>2017111203</td>\n",
       "      <td>20171112031032</td>\n",
       "      <td>away</td>\n",
       "      <td>68.32</td>\n",
       "      <td>22.30</td>\n",
       "      <td>1.63</td>\n",
       "      <td>0.71</td>\n",
       "      <td>0.16</td>\n",
       "      <td>337.54</td>\n",
       "      <td>65.34</td>\n",
       "      <td>2533043</td>\n",
       "      <td>David DeCastro</td>\n",
       "      <td>66</td>\n",
       "      <td>2017</td>\n",
       "      <td>42</td>\n",
       "      <td>2</td>\n",
       "      <td>14:04:00</td>\n",
       "      <td>PIT</td>\n",
       "      <td>2</td>\n",
       "      <td>10</td>\n",
       "      <td>IND</td>\n",
       "      <td>7</td>\n",
       "      <td>0</td>\n",
       "      <td>2540175</td>\n",
       "      <td>SHOTGUN</td>\n",
       "      <td>1 RB, 1 TE, 3 WR</td>\n",
       "      <td>7.0</td>\n",
       "      <td>2 DL, 4 LB, 5 DB</td>\n",
       "      <td>right</td>\n",
       "      <td>2017-11-12T18:46:31.000Z</td>\n",
       "      <td>2017-11-12T18:46:30.000Z</td>\n",
       "      <td>4</td>\n",
       "      <td>6-5</td>\n",
       "      <td>316</td>\n",
       "      <td>01/11/1990</td>\n",
       "      <td>Stanford</td>\n",
       "      <td>G</td>\n",
       "      <td>IND</td>\n",
       "      <td>PIT</td>\n",
       "      <td>10</td>\n",
       "      <td>Lucas Oil Stadium</td>\n",
       "      <td>Indianapolis, Ind.</td>\n",
       "      <td>Retr. Roof - Closed</td>\n",
       "      <td>Artificial</td>\n",
       "      <td>Cloudy</td>\n",
       "      <td>42.0</td>\n",
       "      <td>70.0</td>\n",
       "      <td>5</td>\n",
       "      <td>NE</td>\n",
       "    </tr>\n",
       "    <tr>\n",
       "      <th>391287</th>\n",
       "      <td>2018111100</td>\n",
       "      <td>20181111000612</td>\n",
       "      <td>home</td>\n",
       "      <td>20.41</td>\n",
       "      <td>33.01</td>\n",
       "      <td>3.58</td>\n",
       "      <td>1.11</td>\n",
       "      <td>0.37</td>\n",
       "      <td>96.07</td>\n",
       "      <td>24.81</td>\n",
       "      <td>2555132</td>\n",
       "      <td>Cody Whitehair</td>\n",
       "      <td>65</td>\n",
       "      <td>2018</td>\n",
       "      <td>10</td>\n",
       "      <td>1</td>\n",
       "      <td>04:35:00</td>\n",
       "      <td>CHI</td>\n",
       "      <td>2</td>\n",
       "      <td>9</td>\n",
       "      <td>CHI</td>\n",
       "      <td>6</td>\n",
       "      <td>0</td>\n",
       "      <td>2558250</td>\n",
       "      <td>SHOTGUN</td>\n",
       "      <td>2 RB, 1 TE, 2 WR</td>\n",
       "      <td>6.0</td>\n",
       "      <td>2 DL, 4 LB, 5 DB</td>\n",
       "      <td>right</td>\n",
       "      <td>2018-11-11T18:24:32.000Z</td>\n",
       "      <td>2018-11-11T18:24:31.000Z</td>\n",
       "      <td>5</td>\n",
       "      <td>6-3</td>\n",
       "      <td>309</td>\n",
       "      <td>07/11/1992</td>\n",
       "      <td>Kansas State</td>\n",
       "      <td>OG</td>\n",
       "      <td>CHI</td>\n",
       "      <td>DET</td>\n",
       "      <td>10</td>\n",
       "      <td>Soldier Field</td>\n",
       "      <td>Chicago, IL</td>\n",
       "      <td>Outdoor</td>\n",
       "      <td>Grass</td>\n",
       "      <td>Mostly Cloudy</td>\n",
       "      <td>37.0</td>\n",
       "      <td>52.0</td>\n",
       "      <td>12</td>\n",
       "      <td>SSW</td>\n",
       "    </tr>\n",
       "    <tr>\n",
       "      <th>145819</th>\n",
       "      <td>2017111209</td>\n",
       "      <td>20171112092312</td>\n",
       "      <td>away</td>\n",
       "      <td>11.86</td>\n",
       "      <td>21.00</td>\n",
       "      <td>1.04</td>\n",
       "      <td>0.60</td>\n",
       "      <td>0.12</td>\n",
       "      <td>344.23</td>\n",
       "      <td>15.29</td>\n",
       "      <td>2543592</td>\n",
       "      <td>Anthony Hitchens</td>\n",
       "      <td>59</td>\n",
       "      <td>2017</td>\n",
       "      <td>6</td>\n",
       "      <td>3</td>\n",
       "      <td>09:51:00</td>\n",
       "      <td>ATL</td>\n",
       "      <td>1</td>\n",
       "      <td>6</td>\n",
       "      <td>DAL</td>\n",
       "      <td>10</td>\n",
       "      <td>7</td>\n",
       "      <td>2552453</td>\n",
       "      <td>SHOTGUN</td>\n",
       "      <td>1 RB, 1 TE, 3 WR</td>\n",
       "      <td>6.0</td>\n",
       "      <td>4 DL, 2 LB, 5 DB</td>\n",
       "      <td>left</td>\n",
       "      <td>2017-11-12T23:11:51.000Z</td>\n",
       "      <td>2017-11-12T23:11:50.000Z</td>\n",
       "      <td>-1</td>\n",
       "      <td>6-0</td>\n",
       "      <td>235</td>\n",
       "      <td>06/10/1992</td>\n",
       "      <td>Iowa</td>\n",
       "      <td>MLB</td>\n",
       "      <td>ATL</td>\n",
       "      <td>DAL</td>\n",
       "      <td>10</td>\n",
       "      <td>Mercedes-Benz Stadium</td>\n",
       "      <td>Atlanta, GA</td>\n",
       "      <td>Closed Dome</td>\n",
       "      <td>FieldTurf360</td>\n",
       "      <td>NaN</td>\n",
       "      <td>NaN</td>\n",
       "      <td>0.0</td>\n",
       "      <td>NaN</td>\n",
       "      <td>NaN</td>\n",
       "    </tr>\n",
       "  </tbody>\n",
       "</table>\n",
       "</div>"
      ],
      "text/plain": [
       "            GameId          PlayId  Team      X      Y     S     A   Dis  \\\n",
       "382508  2018110404  20181104040387  home  63.56  23.42  3.59  0.81  0.36   \n",
       "275959  2018091000  20180910001480  home  97.23  22.98  3.85  2.25  0.37   \n",
       "44982   2017092412  20170924123767  home  43.54  22.24  3.74  0.70  0.47   \n",
       "26728   2017091711  20170917110349  home  55.85  26.20  1.41  1.71  0.20   \n",
       "138809  2017111202  20171112022207  home  34.98  23.32  2.08  1.78  0.26   \n",
       "264254  2018090901  20180909012222  home  48.06  34.33  2.96  0.70  0.33   \n",
       "52277   2017100104  20171001040632  away  59.57  15.42  1.81  0.40  0.27   \n",
       "105523  2017102210  20171022103221  home  71.99  21.98  2.10  1.30  0.21   \n",
       "276355  2018091000  20180910003702  home  69.92  30.56  1.31  1.45  0.15   \n",
       "375783  2018102810  20181028103204  away  36.85  21.30  3.14  2.38  0.30   \n",
       "79573   2017101500  20171015002589  home  82.04  27.35  5.21  1.91  0.50   \n",
       "140477  2017111204  20171112040270  away  57.61  33.93  2.29  0.13  0.33   \n",
       "95893   2017102202  20171022020087  home  62.60  32.17  0.64  2.12  0.09   \n",
       "401261  2018111110  20181111100457  away  51.29  29.59  4.59  0.53  0.47   \n",
       "133955  2017110510  20171105102717  home  65.76  44.54  1.60  1.09  0.22   \n",
       "56728   2017100108  20171001081280  home  46.90  41.50  1.58  1.58  0.25   \n",
       "402741  2018111111  20181111113144  away  53.50  25.62  3.09  0.85  0.30   \n",
       "139507  2017111203  20171112031032  away  68.32  22.30  1.63  0.71  0.16   \n",
       "391287  2018111100  20181111000612  home  20.41  33.01  3.58  1.11  0.37   \n",
       "145819  2017111209  20171112092312  away  11.86  21.00  1.04  0.60  0.12   \n",
       "\n",
       "        Orientation     Dir    NflId         DisplayName  JerseyNumber  \\\n",
       "382508       118.86  183.42  2543755       Ja'Wuan James            70   \n",
       "275959       270.17  317.05   497149   LeGarrette Blount            29   \n",
       "44982        167.02  189.09  2534567        Korey Toomer            56   \n",
       "26728        206.21  254.53  2550449    Ethan Westbrooks            93   \n",
       "138809       335.09   18.44    71441         Glover Quin            27   \n",
       "264254       341.08  358.12  2532980       Kevin Zeitler            70   \n",
       "52277        225.81   28.68  2540291      Kayvon Webster            21   \n",
       "105523       228.69  331.03   497032       Russell Okung            76   \n",
       "276355       279.46  350.67  2539270  Sylvester Williams            92   \n",
       "375783       282.90   39.60  2506789     Tramon Williams            38   \n",
       "79573        166.77  211.62  2556373      Wes Schweitzer            71   \n",
       "140477        34.47  160.98  2552296        Kyle Emanuel            51   \n",
       "95893         74.52   18.52  2555278      Emmanuel Ogbah            90   \n",
       "401261        28.51  359.42  2539288         Dion Jordan            95   \n",
       "133955       197.03   58.03  2555539       Xavien Howard            25   \n",
       "56728         35.20  234.82  2533059    Morris Claiborne            21   \n",
       "402741       103.42  276.40  2558159        Xavier Woods            25   \n",
       "139507       337.54   65.34  2533043      David DeCastro            66   \n",
       "391287        96.07   24.81  2555132      Cody Whitehair            65   \n",
       "145819       344.23   15.29  2543592    Anthony Hitchens            59   \n",
       "\n",
       "        Season  YardLine  Quarter GameClock PossessionTeam  Down  Distance  \\\n",
       "382508    2018        45        1  07:47:00            MIA     3         1   \n",
       "275959    2018        17        2  04:17:00            DET     1        10   \n",
       "44982     2017        31        4  02:00:00             KC     1        10   \n",
       "26728     2017        48        1  09:06:00            WAS     1        10   \n",
       "138809    2017        39        3  12:07:00            CLV     2         4   \n",
       "264254    2018        37        3  11:21:00            CLV     1        10   \n",
       "52277     2017        48        1  04:35:00            DAL     1        10   \n",
       "105523    2017        38        4  07:58:00            LAC     1        10   \n",
       "276355    2018        40        4  06:31:00            NYJ     1        10   \n",
       "375783    2018        25        3  00:13:00             LA     1        10   \n",
       "79573     2017        27        3  00:50:00            ATL     2         8   \n",
       "140477    2017        48        1  10:02:00            JAX     2        10   \n",
       "95893     2017        48        1  14:26:00            TEN     1        10   \n",
       "401261    2018        42        1  08:36:00             LA     2         1   \n",
       "133955    2017        45        3  00:53:00            OAK     2         5   \n",
       "56728     2017        48        2  07:30:00            JAX     1        10   \n",
       "402741    2018        41        4  10:10:00            PHI     1        10   \n",
       "139507    2017        42        2  14:04:00            PIT     2        10   \n",
       "391287    2018        10        1  04:35:00            CHI     2         9   \n",
       "145819    2017         6        3  09:51:00            ATL     1         6   \n",
       "\n",
       "       FieldPosition  HomeScoreBeforePlay  VisitorScoreBeforePlay  \\\n",
       "382508           NYJ                    0                       0   \n",
       "275959           DET                    7                      10   \n",
       "44982             KC                   10                      17   \n",
       "26728            WAS                    0                       0   \n",
       "138809           DET                   17                      10   \n",
       "264254           PIT                    0                       7   \n",
       "52277            DAL                    3                       3   \n",
       "105523           LAC                   14                       0   \n",
       "276355           DET                   17                      48   \n",
       "375783            LA                   23                      20   \n",
       "79573            ATL                   17                      14   \n",
       "140477           LAC                    0                       0   \n",
       "95893            TEN                    0                       0   \n",
       "401261           SEA                    0                       7   \n",
       "133955           MIA                   16                      20   \n",
       "56728            NYJ                    7                       7   \n",
       "402741           PHI                   13                      20   \n",
       "139507           IND                    7                       0   \n",
       "391287           CHI                    6                       0   \n",
       "145819           DAL                   10                       7   \n",
       "\n",
       "        NflIdRusher OffenseFormation  OffensePersonnel  DefendersInTheBox  \\\n",
       "382508      2506404       SINGLEBACK  1 RB, 1 TE, 3 WR                7.0   \n",
       "275959       497149          SHOTGUN  1 RB, 1 TE, 3 WR                7.0   \n",
       "44982       2557917           I_FORM  2 RB, 2 TE, 1 WR                8.0   \n",
       "26728       2556414           I_FORM  1 RB, 2 TE, 2 WR                7.0   \n",
       "138809      2552461          SHOTGUN  1 RB, 1 TE, 3 WR                6.0   \n",
       "264254      2561021           I_FORM  1 RB, 2 TE, 2 WR                7.0   \n",
       "52277       2555224           I_FORM  2 RB, 1 TE, 2 WR                8.0   \n",
       "105523      2552469          SHOTGUN  1 RB, 1 TE, 3 WR                7.0   \n",
       "276355      2561137       SINGLEBACK  1 RB, 2 TE, 2 WR                7.0   \n",
       "375783      2552475       SINGLEBACK  1 RB, 1 TE, 3 WR                6.0   \n",
       "79573       2552453       SINGLEBACK  1 RB, 2 TE, 2 WR                7.0   \n",
       "140477      2557973           I_FORM  2 RB, 1 TE, 2 WR                7.0   \n",
       "95893       2495207       SINGLEBACK  1 RB, 2 TE, 2 WR                6.0   \n",
       "401261      2552475       SINGLEBACK  1 RB, 1 TE, 3 WR                6.0   \n",
       "133955      2556885       SINGLEBACK  1 RB, 2 TE, 2 WR                8.0   \n",
       "56728       2557973       SINGLEBACK  1 RB, 3 TE, 1 WR                7.0   \n",
       "402741      2559150          SHOTGUN  1 RB, 1 TE, 3 WR                7.0   \n",
       "139507      2540175          SHOTGUN  1 RB, 1 TE, 3 WR                7.0   \n",
       "391287      2558250          SHOTGUN  2 RB, 1 TE, 2 WR                6.0   \n",
       "145819      2552453          SHOTGUN  1 RB, 1 TE, 3 WR                6.0   \n",
       "\n",
       "        DefensePersonnel PlayDirection               TimeHandoff  \\\n",
       "382508  3 DL, 3 LB, 5 DB         right  2018-11-04T18:17:32.000Z   \n",
       "275959  3 DL, 3 LB, 5 DB          left  2018-09-11T00:21:19.000Z   \n",
       "44982   4 DL, 3 LB, 4 DB         right  2017-09-24T23:24:55.000Z   \n",
       "26728   3 DL, 4 LB, 4 DB         right  2017-09-17T20:37:24.000Z   \n",
       "138809  4 DL, 2 LB, 5 DB          left  2017-11-12T19:48:01.000Z   \n",
       "264254  3 DL, 4 LB, 4 DB          left  2018-09-09T18:44:08.000Z   \n",
       "52277   3 DL, 4 LB, 4 DB         right  2017-10-01T17:24:45.000Z   \n",
       "105523  2 DL, 3 LB, 6 DB          left  2017-10-22T22:52:34.000Z   \n",
       "276355  4 DL, 3 LB, 4 DB         right  2018-09-11T02:16:04.000Z   \n",
       "375783  2 DL, 3 LB, 6 DB         right  2018-10-28T22:58:55.000Z   \n",
       "79573   4 DL, 3 LB, 4 DB          left  2017-10-15T19:11:58.000Z   \n",
       "140477  4 DL, 3 LB, 4 DB          left  2017-11-12T18:11:59.000Z   \n",
       "95893   4 DL, 3 LB, 4 DB          left  2017-10-22T17:03:48.000Z   \n",
       "401261  4 DL, 2 LB, 5 DB          left  2018-11-11T21:40:09.000Z   \n",
       "133955  4 DL, 3 LB, 4 DB         right  2017-11-06T03:36:24.000Z   \n",
       "56728   3 DL, 4 LB, 4 DB          left  2017-10-01T17:54:33.000Z   \n",
       "402741  4 DL, 2 LB, 5 DB          left  2018-11-12T03:53:02.000Z   \n",
       "139507  2 DL, 4 LB, 5 DB         right  2017-11-12T18:46:31.000Z   \n",
       "391287  2 DL, 4 LB, 5 DB         right  2018-11-11T18:24:32.000Z   \n",
       "145819  4 DL, 2 LB, 5 DB          left  2017-11-12T23:11:51.000Z   \n",
       "\n",
       "                        TimeSnap  Yards PlayerHeight  PlayerWeight  \\\n",
       "382508  2018-11-04T18:17:31.000Z     -3          6-6           312   \n",
       "275959  2018-09-11T00:21:18.000Z      3          6-0           247   \n",
       "44982   2017-09-24T23:24:54.000Z     69          6-2           235   \n",
       "26728   2017-09-17T20:37:23.000Z      5          6-4           287   \n",
       "138809  2017-11-12T19:47:59.000Z     19          6-0           207   \n",
       "264254  2018-09-09T18:44:06.000Z     17          6-4           315   \n",
       "52277   2017-10-01T17:24:44.000Z      1         5-11           190   \n",
       "105523  2017-10-22T22:52:33.000Z     21          6-5           310   \n",
       "276355  2018-09-11T02:16:02.000Z      5          6-2           328   \n",
       "375783  2018-10-28T22:58:53.000Z      8         5-11           192   \n",
       "79573   2017-10-15T19:11:57.000Z     20          6-4           314   \n",
       "140477  2017-11-12T18:11:58.000Z      8          6-3           250   \n",
       "95893   2017-10-22T17:03:47.000Z      9          6-4           275   \n",
       "401261  2018-11-11T21:40:08.000Z      4          6-6           284   \n",
       "133955  2017-11-06T03:36:23.000Z      0          6-1           200   \n",
       "56728   2017-10-01T17:54:32.000Z      4         5-11           192   \n",
       "402741  2018-11-12T03:53:01.000Z      0         5-11           202   \n",
       "139507  2017-11-12T18:46:30.000Z      4          6-5           316   \n",
       "391287  2018-11-11T18:24:31.000Z      5          6-3           309   \n",
       "145819  2017-11-12T23:11:50.000Z     -1          6-0           235   \n",
       "\n",
       "       PlayerBirthDate   PlayerCollegeName Position HomeTeamAbbr  \\\n",
       "382508      06/03/1992           Tennessee       OT          MIA   \n",
       "275959      12/05/1986              Oregon       RB          DET   \n",
       "44982       12/09/1988               Idaho      MLB          LAC   \n",
       "26728       11/15/1990      West Texas A&M       DE           LA   \n",
       "138809      01/15/1986          New Mexico       FS          DET   \n",
       "264254      03/08/1990           Wisconsin        G          CLE   \n",
       "52277       02/01/1991       South Florida       CB          DAL   \n",
       "105523      10/07/1988      Oklahoma State        T          LAC   \n",
       "276355      11/21/1988      North Carolina       DT          DET   \n",
       "375783      03/16/1983      Louisiana Tech       CB           LA   \n",
       "79573       09/11/1993      San Jose State        G          ATL   \n",
       "140477      08/16/1991  North Dakota State      OLB          JAX   \n",
       "95893       11/06/1993      Oklahoma State       DE          CLE   \n",
       "401261      03/05/1990              Oregon       DE           LA   \n",
       "133955      07/04/1993              Baylor       CB          MIA   \n",
       "56728       02/07/1990     Louisiana State       CB          NYJ   \n",
       "402741      07/26/1995      Louisiana Tech       FS          PHI   \n",
       "139507      01/11/1990            Stanford        G          IND   \n",
       "391287      07/11/1992        Kansas State       OG          CHI   \n",
       "145819      06/10/1992                Iowa      MLB          ATL   \n",
       "\n",
       "       VisitorTeamAbbr  Week                        Stadium  \\\n",
       "382508             NYJ     9              Hard Rock Stadium   \n",
       "275959             NYJ     1                     Ford Field   \n",
       "44982               KC     3                 StubHub Center   \n",
       "26728              WAS     2  Los Angeles Memorial Coliseum   \n",
       "138809             CLE    10                     Ford Field   \n",
       "264254             PIT     1            FirstEnergy Stadium   \n",
       "52277               LA     4                   AT&T Stadium   \n",
       "105523             DEN     7                 StubHub Center   \n",
       "276355             NYJ     1                     Ford Field   \n",
       "375783              GB     8  Los Angeles Memorial Coliseum   \n",
       "79573              MIA     6          Mercedes-Benz Stadium   \n",
       "140477             LAC    10                 EverBank Field   \n",
       "95893              TEN     7            FirstEnergy Stadium   \n",
       "401261             SEA    10  Los Angeles Memorial Coliseum   \n",
       "133955             OAK     9              Hard Rock Stadium   \n",
       "56728              JAX     4                        MetLife   \n",
       "402741             DAL    10        Lincoln Financial Field   \n",
       "139507             PIT    10              Lucas Oil Stadium   \n",
       "391287             DET    10                  Soldier Field   \n",
       "145819             DAL    10          Mercedes-Benz Stadium   \n",
       "\n",
       "                   Location          StadiumType           Turf  \\\n",
       "382508  Miami Gardens, Fla.              Outdoor  Natural Grass   \n",
       "275959          Detroit, MI              Indoors     Field Turf   \n",
       "44982            Carson, CA                  NaN          Grass   \n",
       "26728   Los Angeles, Calif.              Outdoor          Grass   \n",
       "138809          Detroit, MI              Indoors     Field Turf   \n",
       "264254      Cleveland, Ohio              Outdoor          Grass   \n",
       "52277      Arlington, Texas               Indoor     Artificial   \n",
       "105523           Carson, CA                  NaN          Grass   \n",
       "276355          Detroit, MI              Indoors     Field Turf   \n",
       "375783  Los Angeles, Calif.              Outdoor          Grass   \n",
       "79573           Atlanta, GA  Indoor, Roof Closed  FieldTurf 360   \n",
       "140477     Jacksonville, FL                 Open          Grass   \n",
       "95893       Cleveland, Ohio              Outdoor          Grass   \n",
       "401261  Los Angeles, Calif.              Outdoor          Grass   \n",
       "133955  Miami Gardens, Fla.              Outdoor  Natural Grass   \n",
       "56728     E. Rutherford, NJ              Outdoor      FieldTurf   \n",
       "402741    Philadelphia, Pa.              Outdoor          Grass   \n",
       "139507   Indianapolis, Ind.  Retr. Roof - Closed     Artificial   \n",
       "391287          Chicago, IL              Outdoor          Grass   \n",
       "145819          Atlanta, GA          Closed Dome   FieldTurf360   \n",
       "\n",
       "               GameWeather  Temperature  Humidity WindSpeed WindDirection  \n",
       "382508        Partly Sunny         87.0      62.0        16           SSE  \n",
       "275959  Controlled Climate         68.0      70.0       NaN           NaN  \n",
       "44982                Sunny         84.0      25.0         5             W  \n",
       "26728               Cloudy         76.0      59.0         3            SW  \n",
       "138809  Controlled Climate         68.0      70.0       NaN           NaN  \n",
       "264254                Rain         58.0      84.0        11          East  \n",
       "52277                  NaN          NaN       0.0       NaN           NaN  \n",
       "105523               Sunny         90.0      15.0         4             W  \n",
       "276355  Controlled Climate         68.0      70.0       NaN           NaN  \n",
       "375783              Cloudy         82.0      39.0         1            SW  \n",
       "79573              Indoors          NaN       0.0       NaN           NaN  \n",
       "140477                 NaN         76.0      75.0         5            NE  \n",
       "95893                Sunny         74.0      56.0        12         South  \n",
       "401261               Sunny         75.0      20.0         1           NNW  \n",
       "133955                 NaN         77.0      82.0         2             N  \n",
       "56728                Sunny         64.0      44.0         5           NNE  \n",
       "402741               Clear         38.0      62.0         5            SW  \n",
       "139507              Cloudy         42.0      70.0         5            NE  \n",
       "391287       Mostly Cloudy         37.0      52.0        12           SSW  \n",
       "145819                 NaN          NaN       0.0       NaN           NaN  "
      ]
     },
     "metadata": {},
     "output_type": "display_data"
    }
   ],
   "source": [
    "df_train = pd.read_csv('../input/train.csv')\n",
    "print(df_train.shape)\n",
    "display(df_train.sample(20))"
   ]
  },
  {
   "cell_type": "code",
   "execution_count": 6,
   "metadata": {},
   "outputs": [],
   "source": [
    "# pandas-profiling, 重いので注意\n",
    "# profile = df_train.profile_report()\n",
    "# profile.to_file('../input/train_profile.html')"
   ]
  },
  {
   "cell_type": "code",
   "execution_count": 7,
   "metadata": {},
   "outputs": [
    {
     "name": "stdout",
     "output_type": "stream",
     "text": [
      "重複行数:  0\n"
     ]
    }
   ],
   "source": [
    "# 重複行の確認，もし0でないなら処理\n",
    "print('重複行数: ', df_train.duplicated().sum())\n",
    "df_train = df_train.loc[~df_train.duplicated(),:]"
   ]
  },
  {
   "cell_type": "code",
   "execution_count": 14,
   "metadata": {},
   "outputs": [
    {
     "data": {
      "text/html": [
       "<div>\n",
       "<style scoped>\n",
       "    .dataframe tbody tr th:only-of-type {\n",
       "        vertical-align: middle;\n",
       "    }\n",
       "\n",
       "    .dataframe tbody tr th {\n",
       "        vertical-align: top;\n",
       "    }\n",
       "\n",
       "    .dataframe thead th {\n",
       "        text-align: right;\n",
       "    }\n",
       "</style>\n",
       "<table border=\"1\" class=\"dataframe\">\n",
       "  <thead>\n",
       "    <tr style=\"text-align: right;\">\n",
       "      <th></th>\n",
       "      <th>#_of_missing</th>\n",
       "      <th>missing_rate</th>\n",
       "    </tr>\n",
       "    <tr>\n",
       "      <th>feature</th>\n",
       "      <th></th>\n",
       "      <th></th>\n",
       "    </tr>\n",
       "  </thead>\n",
       "  <tbody>\n",
       "    <tr>\n",
       "      <th>WindDirection</th>\n",
       "      <td>80234</td>\n",
       "      <td>0.157395</td>\n",
       "    </tr>\n",
       "    <tr>\n",
       "      <th>WindSpeed</th>\n",
       "      <td>67430</td>\n",
       "      <td>0.132277</td>\n",
       "    </tr>\n",
       "    <tr>\n",
       "      <th>Temperature</th>\n",
       "      <td>48532</td>\n",
       "      <td>0.095205</td>\n",
       "    </tr>\n",
       "    <tr>\n",
       "      <th>GameWeather</th>\n",
       "      <td>43648</td>\n",
       "      <td>0.085624</td>\n",
       "    </tr>\n",
       "    <tr>\n",
       "      <th>StadiumType</th>\n",
       "      <td>32934</td>\n",
       "      <td>0.064607</td>\n",
       "    </tr>\n",
       "    <tr>\n",
       "      <th>FieldPosition</th>\n",
       "      <td>6424</td>\n",
       "      <td>0.012602</td>\n",
       "    </tr>\n",
       "    <tr>\n",
       "      <th>Humidity</th>\n",
       "      <td>6160</td>\n",
       "      <td>0.012084</td>\n",
       "    </tr>\n",
       "    <tr>\n",
       "      <th>OffenseFormation</th>\n",
       "      <td>110</td>\n",
       "      <td>0.000216</td>\n",
       "    </tr>\n",
       "    <tr>\n",
       "      <th>DefendersInTheBox</th>\n",
       "      <td>66</td>\n",
       "      <td>0.000129</td>\n",
       "    </tr>\n",
       "    <tr>\n",
       "      <th>Orientation</th>\n",
       "      <td>18</td>\n",
       "      <td>0.000035</td>\n",
       "    </tr>\n",
       "    <tr>\n",
       "      <th>Dir</th>\n",
       "      <td>14</td>\n",
       "      <td>0.000027</td>\n",
       "    </tr>\n",
       "    <tr>\n",
       "      <th>X</th>\n",
       "      <td>0</td>\n",
       "      <td>0.000000</td>\n",
       "    </tr>\n",
       "    <tr>\n",
       "      <th>Y</th>\n",
       "      <td>0</td>\n",
       "      <td>0.000000</td>\n",
       "    </tr>\n",
       "    <tr>\n",
       "      <th>Yards</th>\n",
       "      <td>0</td>\n",
       "      <td>0.000000</td>\n",
       "    </tr>\n",
       "    <tr>\n",
       "      <th>Team</th>\n",
       "      <td>0</td>\n",
       "      <td>0.000000</td>\n",
       "    </tr>\n",
       "    <tr>\n",
       "      <th>PlayerHeight</th>\n",
       "      <td>0</td>\n",
       "      <td>0.000000</td>\n",
       "    </tr>\n",
       "    <tr>\n",
       "      <th>PlayerWeight</th>\n",
       "      <td>0</td>\n",
       "      <td>0.000000</td>\n",
       "    </tr>\n",
       "    <tr>\n",
       "      <th>PlayerBirthDate</th>\n",
       "      <td>0</td>\n",
       "      <td>0.000000</td>\n",
       "    </tr>\n",
       "    <tr>\n",
       "      <th>PlayerCollegeName</th>\n",
       "      <td>0</td>\n",
       "      <td>0.000000</td>\n",
       "    </tr>\n",
       "    <tr>\n",
       "      <th>Position</th>\n",
       "      <td>0</td>\n",
       "      <td>0.000000</td>\n",
       "    </tr>\n",
       "  </tbody>\n",
       "</table>\n",
       "</div>"
      ],
      "text/plain": [
       "                   #_of_missing  missing_rate\n",
       "feature                                      \n",
       "WindDirection             80234      0.157395\n",
       "WindSpeed                 67430      0.132277\n",
       "Temperature               48532      0.095205\n",
       "GameWeather               43648      0.085624\n",
       "StadiumType               32934      0.064607\n",
       "FieldPosition              6424      0.012602\n",
       "Humidity                   6160      0.012084\n",
       "OffenseFormation            110      0.000216\n",
       "DefendersInTheBox            66      0.000129\n",
       "Orientation                  18      0.000035\n",
       "Dir                          14      0.000027\n",
       "X                             0      0.000000\n",
       "Y                             0      0.000000\n",
       "Yards                         0      0.000000\n",
       "Team                          0      0.000000\n",
       "PlayerHeight                  0      0.000000\n",
       "PlayerWeight                  0      0.000000\n",
       "PlayerBirthDate               0      0.000000\n",
       "PlayerCollegeName             0      0.000000\n",
       "Position                      0      0.000000"
      ]
     },
     "metadata": {},
     "output_type": "display_data"
    },
    {
     "data": {
      "image/png": "[encoded data removed]",
      "text/plain": [
       "<Figure size 432x288 with 1 Axes>"
      ]
     },
     "metadata": {
      "needs_background": "light"
     },
     "output_type": "display_data"
    }
   ],
   "source": [
    "# 欠損値の確認\n",
    "missing_dict = df_train.isnull().sum()\n",
    "missing_rate = missing_dict.values / df_train.shape[0]\n",
    "df_train_missing = pd.DataFrame({'feature': missing_dict.index, '#_of_missing': missing_dict.values, 'missing_rate': missing_rate}).sort_values(by='missing_rate', ascending=False)\n",
    "df_train_missing = df_train_missing.set_index('feature')\n",
    "display(df_train_missing.head(20))\n",
    "\n",
    "df_train_missing_nonzero = df_train_missing[df_train_missing['#_of_missing']!=0]\n",
    "plt.bar(df_train_missing_nonzero.index, df_train_missing_nonzero['#_of_missing'])\n",
    "plt.xticks(rotation=90)\n",
    "plt.show()"
   ]
  },
  {
   "cell_type": "code",
   "execution_count": 15,
   "metadata": {},
   "outputs": [
    {
     "data": {
      "text/plain": [
       "'ユニーク数: '"
      ]
     },
     "metadata": {},
     "output_type": "display_data"
    },
    {
     "data": {
      "text/plain": [
       "Orientation               36001\n",
       "Dir                       36001\n",
       "PlayId                    23171\n",
       "TimeSnap                  22943\n",
       "TimeHandoff               22935\n",
       "X                         10890\n",
       "Y                          4339\n",
       "NflId                      2231\n",
       "DisplayName                2230\n",
       "PlayerBirthDate            1688\n",
       "A                           903\n",
       "GameClock                   901\n",
       "S                           884\n",
       "GameId                      512\n",
       "NflIdRusher                 371\n",
       "PlayerCollegeName           301\n",
       "PlayerWeight                182\n",
       "Dis                         105\n",
       "JerseyNumber                 99\n",
       "Yards                        94\n",
       "Humidity                     86\n",
       "Temperature                  78\n",
       "GameWeather                  61\n",
       "Location                     60\n",
       "WindSpeed                    58\n",
       "OffensePersonnel             56\n",
       "Stadium                      55\n",
       "WindDirection                53\n",
       "HomeScoreBeforePlay          50\n",
       "YardLine                     50\n",
       "VisitorScoreBeforePlay       45\n",
       "DefensePersonnel             38\n",
       "Distance                     35\n",
       "VisitorTeamAbbr              32\n",
       "HomeTeamAbbr                 32\n",
       "FieldPosition                32\n",
       "PossessionTeam               32\n",
       "StadiumType                  29\n",
       "Position                     25\n",
       "Turf                         20\n",
       "Week                         17\n",
       "PlayerHeight                 16\n",
       "DefendersInTheBox            11\n",
       "OffenseFormation              8\n",
       "Quarter                       5\n",
       "Down                          4\n",
       "Season                        2\n",
       "PlayDirection                 2\n",
       "Team                          2\n",
       "dtype: int64"
      ]
     },
     "metadata": {},
     "output_type": "display_data"
    }
   ],
   "source": [
    "# カラムごとのuniqueな数\n",
    "display('ユニーク数: ', df_train.nunique().sort_values(ascending=False))"
   ]
  },
  {
   "cell_type": "code",
   "execution_count": 16,
   "metadata": {
    "scrolled": false
   },
   "outputs": [
    {
     "name": "stderr",
     "output_type": "stream",
     "text": [
      "findfont: Font family ['sans-serif'] not found. Falling back to DejaVu Sans.\n"
     ]
    },
    {
     "name": "stdout",
     "output_type": "stream",
     "text": [
      "------------------------------------------------------------\n",
      "GameId\n",
      "# of unique:  512\n",
      "statistics:  count    5.097620e+05\n",
      "mean     2.017594e+09\n",
      "std      4.997098e+05\n",
      "min      2.017091e+09\n",
      "25%      2.017111e+09\n",
      "50%      2.017123e+09\n",
      "75%      2.018110e+09\n",
      "max      2.018123e+09\n",
      "Name: GameId, dtype: float64\n"
     ]
    },
    {
     "data": {
      "image/png": "[encoded data removed]",
      "text/plain": [
       "<Figure size 432x288 with 1 Axes>"
      ]
     },
     "metadata": {
      "needs_background": "light"
     },
     "output_type": "display_data"
    },
    {
     "name": "stdout",
     "output_type": "stream",
     "text": [
      "------------------------------------------------------------\n",
      "PlayId\n",
      "# of unique:  23171\n",
      "statistics:  count    5.097620e+05\n",
      "mean     2.017594e+13\n",
      "std      4.997098e+09\n",
      "min      2.017091e+13\n",
      "25%      2.017111e+13\n",
      "50%      2.017123e+13\n",
      "75%      2.018110e+13\n",
      "max      2.018123e+13\n",
      "Name: PlayId, dtype: float64\n"
     ]
    },
    {
     "data": {
      "image/png": "[encoded data removed]",
      "text/plain": [
       "<Figure size 432x288 with 1 Axes>"
      ]
     },
     "metadata": {
      "needs_background": "light"
     },
     "output_type": "display_data"
    },
    {
     "name": "stdout",
     "output_type": "stream",
     "text": [
      "------------------------------------------------------------\n",
      "Team\n",
      "# of unique:  2\n",
      "statistics:  count     509762\n",
      "unique         2\n",
      "top         away\n",
      "freq      254881\n",
      "Name: Team, dtype: object\n",
      "value_counts: \n"
     ]
    },
    {
     "data": {
      "text/plain": [
       "home    0.5\n",
       "away    0.5\n",
       "Name: Team, dtype: float64"
      ]
     },
     "metadata": {},
     "output_type": "display_data"
    },
    {
     "data": {
      "image/png": "[encoded data removed]",
      "text/plain": [
       "<Figure size 432x288 with 1 Axes>"
      ]
     },
     "metadata": {
      "needs_background": "light"
     },
     "output_type": "display_data"
    },
    {
     "name": "stdout",
     "output_type": "stream",
     "text": [
      "------------------------------------------------------------\n",
      "X\n",
      "# of unique:  10890\n",
      "statistics:  count    509762.000000\n",
      "mean         60.040304\n",
      "std          25.435261\n",
      "min           0.660000\n",
      "25%          39.090000\n",
      "50%          60.290000\n",
      "75%          80.970000\n",
      "max         116.840000\n",
      "Name: X, dtype: float64\n"
     ]
    },
    {
     "data": {
      "image/png": "[encoded data removed]",
      "text/plain": [
       "<Figure size 432x288 with 1 Axes>"
      ]
     },
     "metadata": {
      "needs_background": "light"
     },
     "output_type": "display_data"
    },
    {
     "name": "stdout",
     "output_type": "stream",
     "text": [
      "------------------------------------------------------------\n",
      "Y\n",
      "# of unique:  4339\n",
      "statistics:  count    509762.000000\n",
      "mean         26.783535\n",
      "std           7.238206\n",
      "min           1.850000\n",
      "25%          22.730000\n",
      "50%          26.790000\n",
      "75%          30.860000\n",
      "max          56.450000\n",
      "Name: Y, dtype: float64\n"
     ]
    },
    {
     "data": {
      "image/png": "[encoded data removed]",
      "text/plain": [
       "<Figure size 432x288 with 1 Axes>"
      ]
     },
     "metadata": {
      "needs_background": "light"
     },
     "output_type": "display_data"
    },
    {
     "name": "stdout",
     "output_type": "stream",
     "text": [
      "------------------------------------------------------------\n",
      "S\n",
      "# of unique:  884\n",
      "statistics:  count    509762.000000\n",
      "mean          2.591912\n",
      "std           1.383601\n",
      "min           0.000000\n",
      "25%           1.500000\n",
      "50%           2.470000\n",
      "75%           3.560000\n",
      "max           9.410000\n",
      "Name: S, dtype: float64\n"
     ]
    },
    {
     "data": {
      "image/png": "[encoded data removed]",
      "text/plain": [
       "<Figure size 432x288 with 1 Axes>"
      ]
     },
     "metadata": {
      "needs_background": "light"
     },
     "output_type": "display_data"
    },
    {
     "name": "stdout",
     "output_type": "stream",
     "text": [
      "------------------------------------------------------------\n",
      "A\n",
      "# of unique:  903\n",
      "statistics:  count    509762.000000\n",
      "mean          1.683176\n",
      "std           0.976412\n",
      "min           0.000000\n",
      "25%           0.940000\n",
      "50%           1.540000\n",
      "75%           2.290000\n",
      "max          14.710000\n",
      "Name: A, dtype: float64\n"
     ]
    },
    {
     "data": {
      "image/png": "[encoded data removed]",
      "text/plain": [
       "<Figure size 432x288 with 1 Axes>"
      ]
     },
     "metadata": {
      "needs_background": "light"
     },
     "output_type": "display_data"
    },
    {
     "name": "stdout",
     "output_type": "stream",
     "text": [
      "------------------------------------------------------------\n",
      "Dis\n",
      "# of unique:  105\n",
      "statistics:  count    509762.000000\n",
      "mean          0.279406\n",
      "std           0.145482\n",
      "min           0.000000\n",
      "25%           0.170000\n",
      "50%           0.270000\n",
      "75%           0.390000\n",
      "max           1.390000\n",
      "Name: Dis, dtype: float64\n"
     ]
    },
    {
     "data": {
      "image/png": "[encoded data removed]",
      "text/plain": [
       "<Figure size 432x288 with 1 Axes>"
      ]
     },
     "metadata": {
      "needs_background": "light"
     },
     "output_type": "display_data"
    },
    {
     "name": "stdout",
     "output_type": "stream",
     "text": [
      "------------------------------------------------------------\n",
      "Orientation\n",
      "# of unique:  36001\n",
      "statistics:  count    509744.000000\n",
      "mean        180.247779\n",
      "std         104.298330\n",
      "min           0.000000\n",
      "25%          90.630000\n",
      "50%         179.700000\n",
      "75%         270.400000\n",
      "max         360.000000\n",
      "Name: Orientation, dtype: float64\n"
     ]
    },
    {
     "data": {
      "image/png": "[encoded data removed]",
      "text/plain": [
       "<Figure size 432x288 with 1 Axes>"
      ]
     },
     "metadata": {
      "needs_background": "light"
     },
     "output_type": "display_data"
    },
    {
     "name": "stdout",
     "output_type": "stream",
     "text": [
      "------------------------------------------------------------\n",
      "Dir\n",
      "# of unique:  36001\n",
      "statistics:  count    509748.000000\n",
      "mean        179.933859\n",
      "std         106.319488\n",
      "min           0.000000\n",
      "25%          89.830000\n",
      "50%         180.090000\n",
      "75%         270.190000\n",
      "max         360.000000\n",
      "Name: Dir, dtype: float64\n"
     ]
    },
    {
     "data": {
      "image/png": "[encoded data removed]",
      "text/plain": [
       "<Figure size 432x288 with 1 Axes>"
      ]
     },
     "metadata": {
      "needs_background": "light"
     },
     "output_type": "display_data"
    },
    {
     "name": "stdout",
     "output_type": "stream",
     "text": [
      "------------------------------------------------------------\n",
      "NflId\n",
      "# of unique:  2231\n",
      "statistics:  count    5.097620e+05\n",
      "mean     2.344703e+06\n",
      "std      6.418871e+05\n",
      "min      2.220000e+02\n",
      "25%      2.532865e+06\n",
      "50%      2.543765e+06\n",
      "75%      2.555343e+06\n",
      "max      2.561671e+06\n",
      "Name: NflId, dtype: float64\n"
     ]
    },
    {
     "data": {
      "image/png": "[encoded data removed]",
      "text/plain": [
       "<Figure size 432x288 with 1 Axes>"
      ]
     },
     "metadata": {
      "needs_background": "light"
     },
     "output_type": "display_data"
    },
    {
     "name": "stdout",
     "output_type": "stream",
     "text": [
      "------------------------------------------------------------\n",
      "DisplayName\n",
      "# of unique:  2230\n",
      "statistics:  count         509762\n",
      "unique          2230\n",
      "top       Joe Thuney\n",
      "freq             847\n",
      "Name: DisplayName, dtype: object\n",
      "value_counts: \n"
     ]
    },
    {
     "data": {
      "text/plain": [
       "Joe Thuney        0.001662\n",
       "Michael Thomas    0.001662\n",
       "Tom Brady         0.001614\n",
       "Rob Havenstein    0.001563\n",
       "Shaq Mason        0.001562\n",
       "                    ...   \n",
       "Josh Ferguson     0.000002\n",
       "Joe Kerridge      0.000002\n",
       "Tyreek Burwell    0.000002\n",
       "Derron Smith      0.000002\n",
       "Taiwan Jones      0.000002\n",
       "Name: DisplayName, Length: 2230, dtype: float64"
      ]
     },
     "metadata": {},
     "output_type": "display_data"
    },
    {
     "data": {
      "image/png": "[encoded data removed]",
      "text/plain": [
       "<Figure size 432x288 with 1 Axes>"
      ]
     },
     "metadata": {
      "needs_background": "light"
     },
     "output_type": "display_data"
    },
    {
     "name": "stdout",
     "output_type": "stream",
     "text": [
      "------------------------------------------------------------\n",
      "JerseyNumber\n",
      "# of unique:  99\n",
      "statistics:  count    509762.000000\n",
      "mean         54.187982\n",
      "std          28.379359\n",
      "min           1.000000\n",
      "25%          26.000000\n",
      "50%          56.000000\n",
      "75%          78.000000\n",
      "max          99.000000\n",
      "Name: JerseyNumber, dtype: float64\n"
     ]
    },
    {
     "data": {
      "image/png": "[encoded data removed]",
      "text/plain": [
       "<Figure size 432x288 with 1 Axes>"
      ]
     },
     "metadata": {
      "needs_background": "light"
     },
     "output_type": "display_data"
    },
    {
     "name": "stdout",
     "output_type": "stream",
     "text": [
      "------------------------------------------------------------\n",
      "Season\n",
      "# of unique:  2\n",
      "statistics:  count    509762.000000\n",
      "mean       2017.486427\n",
      "std           0.499816\n",
      "min        2017.000000\n",
      "25%        2017.000000\n",
      "50%        2017.000000\n",
      "75%        2018.000000\n",
      "max        2018.000000\n",
      "Name: Season, dtype: float64\n"
     ]
    },
    {
     "data": {
      "image/png": "[encoded data removed]",
      "text/plain": [
       "<Figure size 432x288 with 1 Axes>"
      ]
     },
     "metadata": {
      "needs_background": "light"
     },
     "output_type": "display_data"
    },
    {
     "name": "stdout",
     "output_type": "stream",
     "text": [
      "------------------------------------------------------------\n",
      "YardLine\n",
      "# of unique:  50\n",
      "statistics:  count    509762.000000\n",
      "mean         28.368737\n",
      "std          13.010918\n",
      "min           1.000000\n",
      "25%          20.000000\n",
      "50%          29.000000\n",
      "75%          39.000000\n",
      "max          50.000000\n",
      "Name: YardLine, dtype: float64\n"
     ]
    },
    {
     "data": {
      "image/png": "[encoded data removed]",
      "text/plain": [
       "<Figure size 432x288 with 1 Axes>"
      ]
     },
     "metadata": {
      "needs_background": "light"
     },
     "output_type": "display_data"
    },
    {
     "name": "stdout",
     "output_type": "stream",
     "text": [
      "------------------------------------------------------------\n",
      "Quarter\n",
      "# of unique:  5\n",
      "statistics:  count    509762.000000\n",
      "mean          2.504639\n",
      "std           1.144105\n",
      "min           1.000000\n",
      "25%           1.000000\n",
      "50%           3.000000\n",
      "75%           4.000000\n",
      "max           5.000000\n",
      "Name: Quarter, dtype: float64\n"
     ]
    },
    {
     "data": {
      "image/png": "[encoded data removed]",
      "text/plain": [
       "<Figure size 432x288 with 1 Axes>"
      ]
     },
     "metadata": {
      "needs_background": "light"
     },
     "output_type": "display_data"
    },
    {
     "name": "stdout",
     "output_type": "stream",
     "text": [
      "------------------------------------------------------------\n",
      "GameClock\n",
      "# of unique:  901\n",
      "statistics:  count       509762\n",
      "unique         901\n",
      "top       15:00:00\n",
      "freq         14476\n",
      "Name: GameClock, dtype: object\n",
      "value_counts: \n"
     ]
    },
    {
     "data": {
      "text/plain": [
       "15:00:00    0.028398\n",
       "02:00:00    0.010271\n",
       "14:54:00    0.004229\n",
       "14:55:00    0.003841\n",
       "14:56:00    0.002503\n",
       "              ...   \n",
       "00:01:00    0.000216\n",
       "14:58:00    0.000173\n",
       "14:59:00    0.000129\n",
       "14:39:00    0.000086\n",
       "00:00:00    0.000043\n",
       "Name: GameClock, Length: 901, dtype: float64"
      ]
     },
     "metadata": {},
     "output_type": "display_data"
    },
    {
     "data": {
      "image/png": "[encoded data removed]",
      "text/plain": [
       "<Figure size 432x288 with 1 Axes>"
      ]
     },
     "metadata": {
      "needs_background": "light"
     },
     "output_type": "display_data"
    },
    {
     "name": "stdout",
     "output_type": "stream",
     "text": [
      "------------------------------------------------------------\n",
      "PossessionTeam\n",
      "# of unique:  32\n",
      "statistics:  count     509762\n",
      "unique        32\n",
      "top           NE\n",
      "freq       18700\n",
      "Name: PossessionTeam, dtype: object\n",
      "value_counts: \n"
     ]
    },
    {
     "data": {
      "text/plain": [
       "NE     0.036684\n",
       "LA     0.035216\n",
       "BLT    0.035044\n",
       "JAX    0.034310\n",
       "NO     0.034310\n",
       "SEA    0.033533\n",
       "DAL    0.033188\n",
       "HST    0.032886\n",
       "MIN    0.032843\n",
       "LAC    0.032756\n",
       "DEN    0.032670\n",
       "TEN    0.032454\n",
       "PHI    0.032325\n",
       "CHI    0.032109\n",
       "BUF    0.031807\n",
       "SF     0.031764\n",
       "IND    0.031505\n",
       "NYG    0.030685\n",
       "DET    0.030512\n",
       "NYJ    0.030469\n",
       "ATL    0.030383\n",
       "OAK    0.030253\n",
       "PIT    0.030038\n",
       "ARZ    0.029606\n",
       "WAS    0.029606\n",
       "KC     0.028052\n",
       "CIN    0.028009\n",
       "TB     0.027880\n",
       "MIA    0.027793\n",
       "CAR    0.027750\n",
       "CLV    0.027664\n",
       "GB     0.025894\n",
       "Name: PossessionTeam, dtype: float64"
      ]
     },
     "metadata": {},
     "output_type": "display_data"
    },
    {
     "data": {
      "image/png": "[encoded data removed]",
      "text/plain": [
       "<Figure size 432x288 with 1 Axes>"
      ]
     },
     "metadata": {
      "needs_background": "light"
     },
     "output_type": "display_data"
    },
    {
     "name": "stdout",
     "output_type": "stream",
     "text": [
      "------------------------------------------------------------\n",
      "Down\n",
      "# of unique:  4\n",
      "statistics:  count    509762.000000\n",
      "mean          1.520651\n",
      "std           0.674987\n",
      "min           1.000000\n",
      "25%           1.000000\n",
      "50%           1.000000\n",
      "75%           2.000000\n",
      "max           4.000000\n",
      "Name: Down, dtype: float64\n"
     ]
    },
    {
     "data": {
      "image/png": "[encoded data removed]",
      "text/plain": [
       "<Figure size 432x288 with 1 Axes>"
      ]
     },
     "metadata": {
      "needs_background": "light"
     },
     "output_type": "display_data"
    },
    {
     "name": "stdout",
     "output_type": "stream",
     "text": [
      "------------------------------------------------------------\n",
      "Distance\n",
      "# of unique:  35\n",
      "statistics:  count    509762.000000\n",
      "mean          8.329248\n",
      "std           3.795208\n",
      "min           1.000000\n",
      "25%           6.000000\n",
      "50%          10.000000\n",
      "75%          10.000000\n",
      "max          40.000000\n",
      "Name: Distance, dtype: float64\n"
     ]
    },
    {
     "data": {
      "image/png": "[encoded data removed]",
      "text/plain": [
       "<Figure size 432x288 with 1 Axes>"
      ]
     },
     "metadata": {
      "needs_background": "light"
     },
     "output_type": "display_data"
    },
    {
     "name": "stdout",
     "output_type": "stream",
     "text": [
      "------------------------------------------------------------\n",
      "FieldPosition\n",
      "# of unique:  32\n",
      "statistics:  count     503338\n",
      "unique        32\n",
      "top          BUF\n",
      "freq       17468\n",
      "Name: FieldPosition, dtype: object\n",
      "value_counts: \n"
     ]
    },
    {
     "data": {
      "text/plain": [
       "BUF    0.034267\n",
       "OAK    0.033706\n",
       "NYG    0.033663\n",
       "ARZ    0.033490\n",
       "MIA    0.033318\n",
       "NYJ    0.033145\n",
       "CLV    0.032713\n",
       "CIN    0.032541\n",
       "DEN    0.032498\n",
       "SF     0.032282\n",
       "SEA    0.032195\n",
       "HST    0.032066\n",
       "CHI    0.031505\n",
       "IND    0.031462\n",
       "TEN    0.031332\n",
       "GB     0.031116\n",
       "LA     0.031030\n",
       "JAX    0.030642\n",
       "DAL    0.030555\n",
       "WAS    0.030512\n",
       "DET    0.030296\n",
       "BLT    0.030124\n",
       "TB     0.029908\n",
       "MIN    0.029735\n",
       "LAC    0.029649\n",
       "ATL    0.029304\n",
       "KC     0.029002\n",
       "NE     0.028872\n",
       "PIT    0.028182\n",
       "PHI    0.026369\n",
       "NO     0.026153\n",
       "CAR    0.025765\n",
       "NaN    0.012602\n",
       "Name: FieldPosition, dtype: float64"
      ]
     },
     "metadata": {},
     "output_type": "display_data"
    },
    {
     "data": {
      "image/png": "[encoded data removed]",
      "text/plain": [
       "<Figure size 432x288 with 1 Axes>"
      ]
     },
     "metadata": {
      "needs_background": "light"
     },
     "output_type": "display_data"
    },
    {
     "name": "stdout",
     "output_type": "stream",
     "text": [
      "------------------------------------------------------------\n",
      "HomeScoreBeforePlay\n",
      "# of unique:  50\n",
      "statistics:  count    509762.000000\n",
      "mean         11.148073\n",
      "std          10.277098\n",
      "min           0.000000\n",
      "25%           3.000000\n",
      "50%           9.000000\n",
      "75%          17.000000\n",
      "max          57.000000\n",
      "Name: HomeScoreBeforePlay, dtype: float64\n"
     ]
    },
    {
     "data": {
      "image/png": "[encoded data removed]",
      "text/plain": [
       "<Figure size 432x288 with 1 Axes>"
      ]
     },
     "metadata": {
      "needs_background": "light"
     },
     "output_type": "display_data"
    },
    {
     "name": "stdout",
     "output_type": "stream",
     "text": [
      "------------------------------------------------------------\n",
      "VisitorScoreBeforePlay\n",
      "# of unique:  45\n",
      "statistics:  count    509762.000000\n",
      "mean          9.501057\n",
      "std           9.366413\n",
      "min           0.000000\n",
      "25%           0.000000\n",
      "50%           7.000000\n",
      "75%          14.000000\n",
      "max          51.000000\n",
      "Name: VisitorScoreBeforePlay, dtype: float64\n"
     ]
    },
    {
     "data": {
      "image/png": "[encoded data removed]",
      "text/plain": [
       "<Figure size 432x288 with 1 Axes>"
      ]
     },
     "metadata": {
      "needs_background": "light"
     },
     "output_type": "display_data"
    },
    {
     "name": "stdout",
     "output_type": "stream",
     "text": [
      "------------------------------------------------------------\n",
      "NflIdRusher\n",
      "# of unique:  371\n",
      "statistics:  count    5.097620e+05\n",
      "mean     2.419204e+06\n",
      "std      5.357783e+05\n",
      "min      2.340000e+02\n",
      "25%      2.540011e+06\n",
      "50%      2.552582e+06\n",
      "75%      2.557976e+06\n",
      "max      2.561468e+06\n",
      "Name: NflIdRusher, dtype: float64\n"
     ]
    },
    {
     "data": {
      "image/png": "[encoded data removed]",
      "text/plain": [
       "<Figure size 432x288 with 1 Axes>"
      ]
     },
     "metadata": {
      "needs_background": "light"
     },
     "output_type": "display_data"
    },
    {
     "name": "stdout",
     "output_type": "stream",
     "text": [
      "------------------------------------------------------------\n",
      "OffenseFormation\n",
      "# of unique:  8\n",
      "statistics:  count         509652\n",
      "unique             8\n",
      "top       SINGLEBACK\n",
      "freq          225434\n",
      "Name: OffenseFormation, dtype: object\n",
      "value_counts: \n"
     ]
    },
    {
     "data": {
      "text/plain": [
       "SINGLEBACK    0.442234\n",
       "SHOTGUN       0.296146\n",
       "I_FORM        0.208062\n",
       "PISTOL        0.026326\n",
       "JUMBO         0.022485\n",
       "WILDCAT       0.003496\n",
       "EMPTY         0.000993\n",
       "NaN           0.000216\n",
       "ACE           0.000043\n",
       "Name: OffenseFormation, dtype: float64"
      ]
     },
     "metadata": {},
     "output_type": "display_data"
    },
    {
     "data": {
      "image/png": "[encoded data removed]",
      "text/plain": [
       "<Figure size 432x288 with 1 Axes>"
      ]
     },
     "metadata": {
      "needs_background": "light"
     },
     "output_type": "display_data"
    },
    {
     "name": "stdout",
     "output_type": "stream",
     "text": [
      "------------------------------------------------------------\n",
      "OffensePersonnel\n",
      "# of unique:  56\n",
      "statistics:  count               509762\n",
      "unique                  56\n",
      "top       1 RB, 1 TE, 3 WR\n",
      "freq                232958\n",
      "Name: OffensePersonnel, dtype: object\n",
      "value_counts: \n"
     ]
    },
    {
     "data": {
      "text/plain": [
       "1 RB, 1 TE, 3 WR               0.456994\n",
       "1 RB, 2 TE, 2 WR               0.223814\n",
       "2 RB, 1 TE, 2 WR               0.105218\n",
       "1 RB, 3 TE, 1 WR               0.061413\n",
       "2 RB, 2 TE, 1 WR               0.050667\n",
       "6 OL, 1 RB, 2 TE, 1 WR         0.018989\n",
       "6 OL, 1 RB, 1 TE, 2 WR         0.016529\n",
       "6 OL, 2 RB, 1 TE, 1 WR         0.011566\n",
       "6 OL, 2 RB, 2 TE, 0 WR         0.007380\n",
       "2 RB, 0 TE, 3 WR               0.006776\n",
       "1 RB, 2 TE, 1 WR,1 DL          0.006085\n",
       "6 OL, 1 RB, 0 TE, 3 WR         0.004273\n",
       "1 RB, 0 TE, 4 WR               0.003668\n",
       "0 RB, 1 TE, 4 WR               0.003280\n",
       "2 QB, 1 RB, 1 TE, 2 WR         0.003064\n",
       "2 RB, 3 TE, 0 WR               0.002762\n",
       "6 OL, 1 RB, 3 TE, 0 WR         0.002374\n",
       "6 OL, 2 RB, 0 TE, 2 WR         0.002072\n",
       "1 RB, 1 TE, 2 WR,1 DL          0.001467\n",
       "7 OL, 1 RB, 0 TE, 2 WR         0.001338\n",
       "3 RB, 1 TE, 1 WR               0.001122\n",
       "2 QB, 2 RB, 1 TE, 1 WR         0.001079\n",
       "1 RB, 3 TE, 0 WR,1 DL          0.000863\n",
       "6 OL, 1 RB, 2 TE, 0 WR,1 DL    0.000691\n",
       "3 RB, 0 TE, 2 WR               0.000561\n",
       "2 QB, 1 RB, 2 TE, 1 WR         0.000518\n",
       "6 OL, 1 RB, 2 TE, 0 WR,1 LB    0.000475\n",
       "7 OL, 1 RB, 2 TE, 0 WR         0.000475\n",
       "7 OL, 2 RB, 0 TE, 1 WR         0.000432\n",
       "1 RB, 1 TE, 2 WR,1 DB          0.000432\n",
       "6 OL, 2 RB, 1 TE, 0 WR,1 DL    0.000388\n",
       "1 RB, 2 TE, 1 WR,1 LB          0.000388\n",
       "6 OL, 1 RB, 1 TE, 1 WR,1 DL    0.000302\n",
       "1 RB, 4 TE, 0 WR               0.000302\n",
       "2 QB, 1 RB, 0 TE, 3 WR         0.000302\n",
       "0 RB, 2 TE, 3 WR               0.000216\n",
       "1 RB, 3 TE, 0 WR,1 LB          0.000216\n",
       "3 RB, 2 TE, 0 WR               0.000216\n",
       "1 RB, 0 TE, 3 WR,1 DB          0.000129\n",
       "1 RB, 2 TE, 1 WR,1 DB          0.000129\n",
       "0 RB, 3 TE, 2 WR               0.000129\n",
       "2 QB, 2 RB, 0 TE, 2 WR         0.000086\n",
       "1 RB, 1 TE, 2 WR,1 LB          0.000086\n",
       "2 QB, 1 RB, 3 TE, 0 WR         0.000086\n",
       "0 RB, 0 TE, 5 WR               0.000086\n",
       "7 OL, 2 RB, 1 TE, 0 WR         0.000086\n",
       "2 RB, 2 TE, 0 WR,1 DL          0.000086\n",
       "1 RB, 3 TE, 0 WR,1 DB          0.000043\n",
       "2 QB, 3 RB, 1 TE, 0 WR         0.000043\n",
       "2 RB, 3 TE, 1 WR               0.000043\n",
       "6 OL, 0 RB, 2 TE, 2 WR         0.000043\n",
       "2 QB, 2 RB, 2 TE, 0 WR         0.000043\n",
       "6 OL, 1 RB, 1 TE, 0 WR,2 DL    0.000043\n",
       "6 OL, 3 RB, 0 TE, 1 WR         0.000043\n",
       "2 RB, 1 TE, 1 WR,1 DB          0.000043\n",
       "1 RB, 2 TE, 3 WR               0.000043\n",
       "Name: OffensePersonnel, dtype: float64"
      ]
     },
     "metadata": {},
     "output_type": "display_data"
    },
    {
     "data": {
      "image/png": "[encoded data removed]",
      "text/plain": [
       "<Figure size 432x288 with 1 Axes>"
      ]
     },
     "metadata": {
      "needs_background": "light"
     },
     "output_type": "display_data"
    },
    {
     "name": "stdout",
     "output_type": "stream",
     "text": [
      "------------------------------------------------------------\n",
      "DefendersInTheBox\n",
      "# of unique:  11\n",
      "statistics:  count    509696.000000\n",
      "mean          6.943025\n",
      "std           0.991130\n",
      "min           1.000000\n",
      "25%           6.000000\n",
      "50%           7.000000\n",
      "75%           8.000000\n",
      "max          11.000000\n",
      "Name: DefendersInTheBox, dtype: float64\n"
     ]
    },
    {
     "data": {
      "image/png": "[encoded data removed]",
      "text/plain": [
       "<Figure size 432x288 with 1 Axes>"
      ]
     },
     "metadata": {
      "needs_background": "light"
     },
     "output_type": "display_data"
    },
    {
     "name": "stdout",
     "output_type": "stream",
     "text": [
      "------------------------------------------------------------\n",
      "DefensePersonnel\n",
      "# of unique:  38\n",
      "statistics:  count               509762\n",
      "unique                  38\n",
      "top       4 DL, 2 LB, 5 DB\n",
      "freq                139876\n",
      "Name: DefensePersonnel, dtype: object\n",
      "value_counts: \n"
     ]
    },
    {
     "data": {
      "text/plain": [
       "4 DL, 2 LB, 5 DB          0.274395\n",
       "4 DL, 3 LB, 4 DB          0.267792\n",
       "3 DL, 4 LB, 4 DB          0.157783\n",
       "2 DL, 4 LB, 5 DB          0.111691\n",
       "3 DL, 3 LB, 5 DB          0.095896\n",
       "2 DL, 3 LB, 6 DB          0.022830\n",
       "4 DL, 1 LB, 6 DB          0.018040\n",
       "4 DL, 4 LB, 3 DB          0.010228\n",
       "3 DL, 2 LB, 6 DB          0.008329\n",
       "5 DL, 2 LB, 4 DB          0.006948\n",
       "5 DL, 3 LB, 3 DB          0.004661\n",
       "1 DL, 4 LB, 6 DB          0.002805\n",
       "3 DL, 5 LB, 3 DB          0.002762\n",
       "6 DL, 4 LB, 1 DB          0.002417\n",
       "5 DL, 4 LB, 2 DB          0.002287\n",
       "6 DL, 3 LB, 2 DB          0.002028\n",
       "5 DL, 1 LB, 5 DB          0.001769\n",
       "6 DL, 2 LB, 3 DB          0.001381\n",
       "1 DL, 5 LB, 5 DB          0.001338\n",
       "2 DL, 5 LB, 4 DB          0.000949\n",
       "2 DL, 2 LB, 7 DB          0.000561\n",
       "1 DL, 3 LB, 7 DB          0.000561\n",
       "3 DL, 1 LB, 7 DB          0.000518\n",
       "5 DL, 3 LB, 2 DB, 1 OL    0.000302\n",
       "5 DL, 5 LB, 1 DB          0.000302\n",
       "0 DL, 5 LB, 6 DB          0.000259\n",
       "4 DL, 5 LB, 2 DB          0.000216\n",
       "0 DL, 4 LB, 7 DB          0.000173\n",
       "4 DL, 0 LB, 7 DB          0.000129\n",
       "5 DL, 4 LB, 1 DB, 1 OL    0.000129\n",
       "2 DL, 4 LB, 4 DB, 1 OL    0.000129\n",
       "0 DL, 6 LB, 5 DB          0.000086\n",
       "4 DL, 6 LB, 1 DB          0.000086\n",
       "3 DL, 4 LB, 3 DB, 1 OL    0.000043\n",
       "1 DL, 2 LB, 8 DB          0.000043\n",
       "6 DL, 1 LB, 4 DB          0.000043\n",
       "4 DL, 5 LB, 1 DB, 1 OL    0.000043\n",
       "7 DL, 2 LB, 2 DB          0.000043\n",
       "Name: DefensePersonnel, dtype: float64"
      ]
     },
     "metadata": {},
     "output_type": "display_data"
    },
    {
     "data": {
      "image/png": "[encoded data removed]",
      "text/plain": [
       "<Figure size 432x288 with 1 Axes>"
      ]
     },
     "metadata": {
      "needs_background": "light"
     },
     "output_type": "display_data"
    },
    {
     "name": "stdout",
     "output_type": "stream",
     "text": [
      "------------------------------------------------------------\n",
      "PlayDirection\n",
      "# of unique:  2\n",
      "statistics:  count     509762\n",
      "unique         2\n",
      "top         left\n",
      "freq      256454\n",
      "Name: PlayDirection, dtype: object\n",
      "value_counts: \n"
     ]
    },
    {
     "data": {
      "text/plain": [
       "left     0.503086\n",
       "right    0.496914\n",
       "Name: PlayDirection, dtype: float64"
      ]
     },
     "metadata": {},
     "output_type": "display_data"
    },
    {
     "data": {
      "image/png": "[encoded data removed]",
      "text/plain": [
       "<Figure size 432x288 with 1 Axes>"
      ]
     },
     "metadata": {
      "needs_background": "light"
     },
     "output_type": "display_data"
    },
    {
     "name": "stdout",
     "output_type": "stream",
     "text": [
      "------------------------------------------------------------\n",
      "TimeHandoff\n",
      "# of unique:  22935\n",
      "statistics:  count                       509762\n",
      "unique                       22935\n",
      "top       2018-10-07T17:17:43.000Z\n",
      "freq                            66\n",
      "Name: TimeHandoff, dtype: object\n",
      "value_counts: \n"
     ]
    },
    {
     "data": {
      "text/plain": [
       "2018-10-07T17:17:43.000Z    0.000129\n",
       "2017-12-17T18:22:18.000Z    0.000086\n",
       "2017-10-01T17:33:20.000Z    0.000086\n",
       "2018-12-23T18:18:30.000Z    0.000086\n",
       "2017-12-17T18:08:59.000Z    0.000086\n",
       "                              ...   \n",
       "2018-09-16T21:18:43.000Z    0.000043\n",
       "2017-11-12T18:24:36.000Z    0.000043\n",
       "2017-09-10T17:44:32.000Z    0.000043\n",
       "2017-12-31T23:32:00.000Z    0.000043\n",
       "2017-10-17T02:30:36.000Z    0.000043\n",
       "Name: TimeHandoff, Length: 22935, dtype: float64"
      ]
     },
     "metadata": {},
     "output_type": "display_data"
    },
    {
     "data": {
      "image/png": "[encoded data removed]",
      "text/plain": [
       "<Figure size 432x288 with 1 Axes>"
      ]
     },
     "metadata": {
      "needs_background": "light"
     },
     "output_type": "display_data"
    },
    {
     "name": "stdout",
     "output_type": "stream",
     "text": [
      "------------------------------------------------------------\n",
      "TimeSnap\n",
      "# of unique:  22943\n",
      "statistics:  count                       509762\n",
      "unique                       22943\n",
      "top       2018-10-07T17:17:41.000Z\n",
      "freq                            66\n",
      "Name: TimeSnap, dtype: object\n",
      "value_counts: \n"
     ]
    },
    {
     "data": {
      "text/plain": [
       "2018-10-07T17:17:41.000Z    0.000129\n",
       "2017-12-31T21:55:29.000Z    0.000129\n",
       "2018-12-30T19:07:32.000Z    0.000086\n",
       "2017-12-24T19:02:17.000Z    0.000086\n",
       "2018-12-02T21:33:12.000Z    0.000086\n",
       "                              ...   \n",
       "2017-11-19T23:54:49.000Z    0.000043\n",
       "2017-09-12T02:49:12.000Z    0.000043\n",
       "2018-09-30T19:52:10.000Z    0.000043\n",
       "2017-11-05T20:32:38.000Z    0.000043\n",
       "2017-11-05T20:47:22.000Z    0.000043\n",
       "Name: TimeSnap, Length: 22943, dtype: float64"
      ]
     },
     "metadata": {},
     "output_type": "display_data"
    },
    {
     "data": {
      "image/png": "[encoded data removed]",
      "text/plain": [
       "<Figure size 432x288 with 1 Axes>"
      ]
     },
     "metadata": {
      "needs_background": "light"
     },
     "output_type": "display_data"
    },
    {
     "name": "stdout",
     "output_type": "stream",
     "text": [
      "------------------------------------------------------------\n",
      "Yards\n",
      "# of unique:  94\n",
      "statistics:  count    509762.000000\n",
      "mean          4.212334\n",
      "std           6.436167\n",
      "min         -14.000000\n",
      "25%           1.000000\n",
      "50%           3.000000\n",
      "75%           6.000000\n",
      "max          99.000000\n",
      "Name: Yards, dtype: float64\n"
     ]
    },
    {
     "data": {
      "image/png": "[encoded data removed]",
      "text/plain": [
       "<Figure size 432x288 with 1 Axes>"
      ]
     },
     "metadata": {
      "needs_background": "light"
     },
     "output_type": "display_data"
    },
    {
     "name": "stdout",
     "output_type": "stream",
     "text": [
      "------------------------------------------------------------\n",
      "PlayerHeight\n",
      "# of unique:  16\n",
      "statistics:  count     509762\n",
      "unique        16\n",
      "top          6-3\n",
      "freq       81694\n",
      "Name: PlayerHeight, dtype: object\n",
      "value_counts: \n"
     ]
    },
    {
     "data": {
      "text/plain": [
       "6-3     0.160259\n",
       "6-4     0.130655\n",
       "6-5     0.123416\n",
       "6-1     0.121094\n",
       "6-2     0.103760\n",
       "6-0     0.099127\n",
       "5-11    0.077214\n",
       "6-6     0.067973\n",
       "5-10    0.048250\n",
       "6-7     0.025651\n",
       "5-9     0.018516\n",
       "6-8     0.011089\n",
       "5-8     0.006880\n",
       "6-9     0.003980\n",
       "5-7     0.001338\n",
       "5-6     0.000796\n",
       "Name: PlayerHeight, dtype: float64"
      ]
     },
     "metadata": {},
     "output_type": "display_data"
    },
    {
     "data": {
      "image/png": "[encoded data removed]",
      "text/plain": [
       "<Figure size 432x288 with 1 Axes>"
      ]
     },
     "metadata": {
      "needs_background": "light"
     },
     "output_type": "display_data"
    },
    {
     "name": "stdout",
     "output_type": "stream",
     "text": [
      "------------------------------------------------------------\n",
      "PlayerWeight\n",
      "# of unique:  182\n",
      "statistics:  count    509762.000000\n",
      "mean        253.554388\n",
      "std          48.367386\n",
      "min         153.000000\n",
      "25%         210.000000\n",
      "50%         245.000000\n",
      "75%         305.000000\n",
      "max         380.000000\n",
      "Name: PlayerWeight, dtype: float64\n"
     ]
    },
    {
     "data": {
      "image/png": "[encoded data removed]",
      "text/plain": [
       "<Figure size 432x288 with 1 Axes>"
      ]
     },
     "metadata": {
      "needs_background": "light"
     },
     "output_type": "display_data"
    },
    {
     "name": "stdout",
     "output_type": "stream",
     "text": [
      "------------------------------------------------------------\n",
      "PlayerBirthDate\n",
      "# of unique:  1688\n",
      "statistics:  count         509762\n",
      "unique          1688\n",
      "top       04/23/1991\n",
      "freq            1602\n",
      "Name: PlayerBirthDate, dtype: object\n",
      "value_counts: \n"
     ]
    },
    {
     "data": {
      "text/plain": [
       "04/23/1991    0.003143\n",
       "12/29/1989    0.003064\n",
       "05/13/1992    0.003052\n",
       "04/26/1989    0.003031\n",
       "06/08/1989    0.002860\n",
       "                ...   \n",
       "05/05/1996    0.000002\n",
       "02/24/1992    0.000002\n",
       "01/27/1994    0.000002\n",
       "03/11/1992    0.000002\n",
       "08/27/1987    0.000002\n",
       "Name: PlayerBirthDate, Length: 1688, dtype: float64"
      ]
     },
     "metadata": {},
     "output_type": "display_data"
    },
    {
     "data": {
      "image/png": "[encoded data removed]",
      "text/plain": [
       "<Figure size 432x288 with 1 Axes>"
      ]
     },
     "metadata": {
      "needs_background": "light"
     },
     "output_type": "display_data"
    },
    {
     "name": "stdout",
     "output_type": "stream",
     "text": [
      "------------------------------------------------------------\n",
      "PlayerCollegeName\n",
      "# of unique:  301\n",
      "statistics:  count      509762\n",
      "unique        301\n",
      "top       Alabama\n",
      "freq        16174\n",
      "Name: PlayerCollegeName, dtype: object\n",
      "value_counts: \n"
     ]
    },
    {
     "data": {
      "text/plain": [
       "Alabama            0.031729\n",
       "Ohio State         0.027432\n",
       "Louisiana State    0.023954\n",
       "Florida            0.023099\n",
       "Georgia            0.022924\n",
       "                     ...   \n",
       "Texas Southern     0.000006\n",
       "Cal Poly           0.000006\n",
       "Eastern Oregon     0.000004\n",
       "Stetson            0.000004\n",
       "Alcorn State       0.000002\n",
       "Name: PlayerCollegeName, Length: 301, dtype: float64"
      ]
     },
     "metadata": {},
     "output_type": "display_data"
    },
    {
     "data": {
      "image/png": "[encoded data removed]",
      "text/plain": [
       "<Figure size 432x288 with 1 Axes>"
      ]
     },
     "metadata": {
      "needs_background": "light"
     },
     "output_type": "display_data"
    },
    {
     "name": "stdout",
     "output_type": "stream",
     "text": [
      "------------------------------------------------------------\n",
      "Position\n",
      "# of unique:  25\n",
      "statistics:  count     509762\n",
      "unique        25\n",
      "top           CB\n",
      "freq       56686\n",
      "Name: Position, dtype: object\n",
      "value_counts: \n"
     ]
    },
    {
     "data": {
      "text/plain": [
       "CB     0.111201\n",
       "WR     0.104608\n",
       "G      0.082615\n",
       "T      0.082482\n",
       "DE     0.070405\n",
       "DT     0.069909\n",
       "OLB    0.066914\n",
       "TE     0.065201\n",
       "FS     0.048272\n",
       "C      0.047202\n",
       "RB     0.046900\n",
       "QB     0.045688\n",
       "SS     0.040293\n",
       "ILB    0.036372\n",
       "MLB    0.020025\n",
       "NT     0.016137\n",
       "LB     0.013141\n",
       "OT     0.011960\n",
       "FB     0.006299\n",
       "OG     0.006028\n",
       "DB     0.003788\n",
       "S      0.003219\n",
       "HB     0.001269\n",
       "SAF    0.000037\n",
       "DL     0.000033\n",
       "Name: Position, dtype: float64"
      ]
     },
     "metadata": {},
     "output_type": "display_data"
    },
    {
     "data": {
      "image/png": "[encoded data removed]",
      "text/plain": [
       "<Figure size 432x288 with 1 Axes>"
      ]
     },
     "metadata": {
      "needs_background": "light"
     },
     "output_type": "display_data"
    },
    {
     "name": "stdout",
     "output_type": "stream",
     "text": [
      "------------------------------------------------------------\n",
      "HomeTeamAbbr\n",
      "# of unique:  32\n",
      "statistics:  count     509762\n",
      "unique        32\n",
      "top           SF\n",
      "freq       17402\n",
      "Name: HomeTeamAbbr, dtype: object\n",
      "value_counts: \n"
     ]
    },
    {
     "data": {
      "text/plain": [
       "SF     0.034137\n",
       "NYG    0.034008\n",
       "NE     0.033835\n",
       "BUF    0.033749\n",
       "BAL    0.033533\n",
       "SEA    0.033274\n",
       "CIN    0.032541\n",
       "IND    0.032454\n",
       "DEN    0.032325\n",
       "OAK    0.032282\n",
       "ARI    0.032239\n",
       "NYJ    0.031850\n",
       "MIN    0.031721\n",
       "JAX    0.031332\n",
       "DAL    0.031289\n",
       "CLE    0.031246\n",
       "HOU    0.031160\n",
       "TEN    0.031116\n",
       "LA     0.030685\n",
       "NO     0.030512\n",
       "LAC    0.030469\n",
       "MIA    0.030210\n",
       "WAS    0.030124\n",
       "KC     0.030081\n",
       "CHI    0.030081\n",
       "GB     0.030038\n",
       "DET    0.029908\n",
       "ATL    0.029908\n",
       "PIT    0.029131\n",
       "TB     0.028829\n",
       "PHI    0.028398\n",
       "CAR    0.027534\n",
       "Name: HomeTeamAbbr, dtype: float64"
      ]
     },
     "metadata": {},
     "output_type": "display_data"
    },
    {
     "data": {
      "image/png": "[encoded data removed]",
      "text/plain": [
       "<Figure size 432x288 with 1 Axes>"
      ]
     },
     "metadata": {
      "needs_background": "light"
     },
     "output_type": "display_data"
    },
    {
     "name": "stdout",
     "output_type": "stream",
     "text": [
      "------------------------------------------------------------\n",
      "VisitorTeamAbbr\n",
      "# of unique:  32\n",
      "statistics:  count     509762\n",
      "unique        32\n",
      "top           LA\n",
      "freq       17864\n",
      "Name: VisitorTeamAbbr, dtype: object\n",
      "value_counts: \n"
     ]
    },
    {
     "data": {
      "text/plain": [
       "LA     0.035044\n",
       "JAX    0.033490\n",
       "IND    0.032886\n",
       "LAC    0.032800\n",
       "DEN    0.032756\n",
       "OAK    0.032325\n",
       "TEN    0.032325\n",
       "NYJ    0.032152\n",
       "WAS    0.032152\n",
       "DET    0.032109\n",
       "SF     0.031980\n",
       "ARI    0.031980\n",
       "MIA    0.031850\n",
       "HOU    0.031721\n",
       "CHI    0.031462\n",
       "NO     0.031462\n",
       "KC     0.031116\n",
       "DAL    0.031073\n",
       "BAL    0.031030\n",
       "SEA    0.030944\n",
       "MIN    0.030944\n",
       "CIN    0.030814\n",
       "BUF    0.030728\n",
       "NE     0.030426\n",
       "CLE    0.030253\n",
       "TB     0.030167\n",
       "NYG    0.030124\n",
       "GB     0.030038\n",
       "PIT    0.029649\n",
       "ATL    0.029606\n",
       "PHI    0.027793\n",
       "CAR    0.026801\n",
       "Name: VisitorTeamAbbr, dtype: float64"
      ]
     },
     "metadata": {},
     "output_type": "display_data"
    },
    {
     "data": {
      "image/png": "[encoded data removed]",
      "text/plain": [
       "<Figure size 432x288 with 1 Axes>"
      ]
     },
     "metadata": {
      "needs_background": "light"
     },
     "output_type": "display_data"
    },
    {
     "name": "stdout",
     "output_type": "stream",
     "text": [
      "------------------------------------------------------------\n",
      "Week\n",
      "# of unique:  17\n",
      "statistics:  count    509762.000000\n",
      "mean          9.096370\n",
      "std           5.000984\n",
      "min           1.000000\n",
      "25%           5.000000\n",
      "50%           9.000000\n",
      "75%          14.000000\n",
      "max          17.000000\n",
      "Name: Week, dtype: float64\n"
     ]
    },
    {
     "data": {
      "image/png": "[encoded data removed]",
      "text/plain": [
       "<Figure size 432x288 with 1 Axes>"
      ]
     },
     "metadata": {
      "needs_background": "light"
     },
     "output_type": "display_data"
    },
    {
     "name": "stdout",
     "output_type": "stream",
     "text": [
      "------------------------------------------------------------\n",
      "Stadium\n",
      "# of unique:  55\n",
      "statistics:  count              509762\n",
      "unique                 55\n",
      "top       MetLife Stadium\n",
      "freq                21054\n",
      "Name: Stadium, dtype: object\n",
      "value_counts: \n"
     ]
    },
    {
     "data": {
      "text/plain": [
       "MetLife Stadium                        0.041302\n",
       "Levis Stadium                          0.034137\n",
       "Gillette Stadium                       0.033835\n",
       "New Era Field                          0.033749\n",
       "Lucas Oil Stadium                      0.032454\n",
       "U.S. Bank Stadium                      0.031721\n",
       "AT&T Stadium                           0.031289\n",
       "Nissan Stadium                         0.031116\n",
       "Mercedes-Benz Superdome                0.030512\n",
       "Paul Brown Stadium                     0.030296\n",
       "FedExField                             0.030124\n",
       "Soldier Field                          0.030081\n",
       "Arrowhead Stadium                      0.030081\n",
       "Ford Field                             0.029908\n",
       "Heinz Field                            0.029131\n",
       "Raymond James Stadium                  0.028829\n",
       "StubHub Center                         0.028700\n",
       "CenturyLink Field                      0.028613\n",
       "Hard Rock Stadium                      0.028570\n",
       "Lincoln Financial Field                0.028398\n",
       "Mercedes-Benz Stadium                  0.028225\n",
       "Lambeau Field                          0.028052\n",
       "Bank of America Stadium                0.027534\n",
       "Oakland-Alameda County Coliseum        0.026887\n",
       "Los Angeles Memorial Coliseum          0.026801\n",
       "NRG Stadium                            0.023478\n",
       "MetLife                                0.022917\n",
       "M&T Bank Stadium                       0.021579\n",
       "State Farm Stadium                     0.017306\n",
       "Sports Authority Field at Mile High    0.016745\n",
       "FirstEnergy Stadium                    0.015148\n",
       "University of Phoenix Stadium          0.014932\n",
       "Broncos Stadium at Mile High           0.013638\n",
       "TIAA Bank Field                        0.012645\n",
       "M&T Stadium                            0.009840\n",
       "Wembley Stadium                        0.008977\n",
       "EverBank Field                         0.008329\n",
       "FirstEnergy                            0.008329\n",
       "NRG                                    0.007682\n",
       "Everbank Field                         0.006733\n",
       "First Energy Stadium                   0.003323\n",
       "CenturyField                           0.002460\n",
       "FirstEnergyStadium                     0.002287\n",
       "Paul Brown Stdium                      0.002244\n",
       "CenturyLink                            0.002201\n",
       "Twickenham Stadium                     0.002158\n",
       "M & T Bank Stadium                     0.002115\n",
       "Lambeau field                          0.001985\n",
       "Los Angeles Memorial Coliesum          0.001985\n",
       "Broncos Stadium At Mile High           0.001942\n",
       "Twickenham                             0.001899\n",
       "Estadio Azteca                         0.001769\n",
       "Mercedes-Benz Dome                     0.001683\n",
       "Oakland Alameda-County Coliseum        0.001683\n",
       "Metlife Stadium                        0.001640\n",
       "Name: Stadium, dtype: float64"
      ]
     },
     "metadata": {},
     "output_type": "display_data"
    },
    {
     "data": {
      "image/png": "[encoded data removed]",
      "text/plain": [
       "<Figure size 432x288 with 1 Axes>"
      ]
     },
     "metadata": {
      "needs_background": "light"
     },
     "output_type": "display_data"
    },
    {
     "name": "stdout",
     "output_type": "stream",
     "text": [
      "------------------------------------------------------------\n",
      "Location\n",
      "# of unique:  60\n",
      "statistics:  count                  509762\n",
      "unique                     60\n",
      "top       East Rutherford, NJ\n",
      "freq                    30096\n",
      "Name: Location, dtype: object\n",
      "value_counts: \n"
     ]
    },
    {
     "data": {
      "text/plain": [
       "East Rutherford, NJ          0.059039\n",
       "Santa Clara, CA              0.034137\n",
       "Indianapolis, Ind.           0.032454\n",
       "Denver, CO                   0.032325\n",
       "Glendale, AZ                 0.032239\n",
       "Minneapolis, MN              0.031721\n",
       "Baltimore, Md.               0.031419\n",
       "Nashville, TN                0.031116\n",
       "Orchard Park NY              0.030383\n",
       "Landover, MD                 0.030124\n",
       "Green Bay, WI                0.030038\n",
       "Arlington, Texas             0.029908\n",
       "Atlanta, GA                  0.029908\n",
       "Foxborough, MA               0.029865\n",
       "Tampa, FL                    0.028829\n",
       "Seattle, WA                  0.028700\n",
       "Carson, CA                   0.028700\n",
       "Oakland, CA                  0.028570\n",
       "Chicago, IL                  0.028441\n",
       "Cincinnati, Ohio             0.028398\n",
       "Kansas City, MO              0.027837\n",
       "Los Angeles, Calif.          0.026887\n",
       "Miami Gardens, Fla.          0.026455\n",
       "Pittsburgh                   0.025851\n",
       "Philadelphia, Pa.            0.025808\n",
       "Jacksonville, FL             0.022269\n",
       "New Orleans, LA              0.021794\n",
       "Detroit                      0.020931\n",
       "Houston, TX                  0.019119\n",
       "Charlotte, North Carolina    0.017349\n",
       "Cleveland, Ohio              0.016313\n",
       "Houston, Texas               0.012041\n",
       "London, England              0.011135\n",
       "Charlotte, NC                0.010185\n",
       "Detroit, MI                  0.008977\n",
       "Cleveland,Ohio               0.006819\n",
       "New Orleans, La.             0.006474\n",
       "Seattle                      0.004575\n",
       "Cincinnati, OH               0.004143\n",
       "Foxborough, Ma               0.003970\n",
       "East Rutherford, N.J.        0.003970\n",
       "Orchard Park, NY             0.003366\n",
       "Pittsburgh, PA               0.003280\n",
       "E. Rutherford, NJ            0.002848\n",
       "Philadelphia, PA             0.002589\n",
       "Cleveland Ohio               0.002287\n",
       "New Orleans                  0.002244\n",
       "Kansas City,  MO             0.002244\n",
       "Baltimore, Maryland          0.002115\n",
       "Miami Gardens, FLA           0.002115\n",
       "Cleveland                    0.002028\n",
       "London                       0.001899\n",
       "Jacksonville Florida         0.001899\n",
       "Los Angeles, CA              0.001899\n",
       "Jacksonville, Fl             0.001769\n",
       "Jacksonville, Florida        0.001769\n",
       "Mexico City                  0.001769\n",
       "Cleveland, OH                0.001640\n",
       "Chicago. IL                  0.001640\n",
       "Arlington, TX                0.001381\n",
       "Name: Location, dtype: float64"
      ]
     },
     "metadata": {},
     "output_type": "display_data"
    },
    {
     "data": {
      "image/png": "[encoded data removed]",
      "text/plain": [
       "<Figure size 432x288 with 1 Axes>"
      ]
     },
     "metadata": {
      "needs_background": "light"
     },
     "output_type": "display_data"
    },
    {
     "name": "stdout",
     "output_type": "stream",
     "text": [
      "------------------------------------------------------------\n",
      "StadiumType\n",
      "# of unique:  29\n",
      "statistics:  count      476828\n",
      "unique         29\n",
      "top       Outdoor\n",
      "freq       267696\n",
      "Name: StadiumType, dtype: object\n",
      "value_counts: \n"
     ]
    },
    {
     "data": {
      "text/plain": [
       "Outdoor                   0.525139\n",
       "Outdoors                  0.132364\n",
       "Indoors                   0.080143\n",
       "NaN                       0.064607\n",
       "Dome                      0.034008\n",
       "Indoor                    0.031678\n",
       "Retractable Roof          0.031160\n",
       "Open                      0.018860\n",
       "Retr. Roof-Closed         0.014069\n",
       "Retr. Roof - Closed       0.012645\n",
       "Domed, closed             0.011609\n",
       "Domed, open               0.005265\n",
       "Closed Dome               0.004186\n",
       "Dome, closed              0.003582\n",
       "Domed                     0.003582\n",
       "Oudoor                    0.002330\n",
       "Retr. Roof Closed         0.002072\n",
       "Indoor, Roof Closed       0.002072\n",
       "Retr. Roof-Open           0.001942\n",
       "Outddors                  0.001899\n",
       "Bowl                      0.001899\n",
       "Heinz Field               0.001769\n",
       "Retr. Roof - Open         0.001726\n",
       "Outdoor Retr Roof-Open    0.001726\n",
       "Outdor                    0.001683\n",
       "Ourdoor                   0.001683\n",
       "Indoor, Open Roof         0.001683\n",
       "Outside                   0.001597\n",
       "Cloudy                    0.001511\n",
       "Domed, Open               0.001511\n",
       "Name: StadiumType, dtype: float64"
      ]
     },
     "metadata": {},
     "output_type": "display_data"
    },
    {
     "data": {
      "image/png": "[encoded data removed]",
      "text/plain": [
       "<Figure size 432x288 with 1 Axes>"
      ]
     },
     "metadata": {
      "needs_background": "light"
     },
     "output_type": "display_data"
    },
    {
     "name": "stdout",
     "output_type": "stream",
     "text": [
      "------------------------------------------------------------\n",
      "Turf\n",
      "# of unique:  20\n",
      "statistics:  count     509762\n",
      "unique        20\n",
      "top        Grass\n",
      "freq      166276\n",
      "Name: Turf, dtype: object\n",
      "value_counts: \n"
     ]
    },
    {
     "data": {
      "text/plain": [
       "Grass                     0.326184\n",
       "Natural Grass             0.210090\n",
       "Field Turf                0.093522\n",
       "Artificial                0.087264\n",
       "FieldTurf                 0.065125\n",
       "UBU Speed Series-S5-M     0.064520\n",
       "A-Turf Titan              0.033749\n",
       "UBU Sports Speed S5-M     0.016788\n",
       "FieldTurf360              0.016227\n",
       "DD GrassMaster            0.015839\n",
       "Twenty-Four/Seven Turf    0.015752\n",
       "SISGrass                  0.014199\n",
       "FieldTurf 360             0.013681\n",
       "Natural grass             0.009408\n",
       "Artifical                 0.007639\n",
       "Natural                   0.003194\n",
       "Field turf                0.001942\n",
       "Naturall Grass            0.001683\n",
       "grass                     0.001597\n",
       "natural grass             0.001597\n",
       "Name: Turf, dtype: float64"
      ]
     },
     "metadata": {},
     "output_type": "display_data"
    },
    {
     "data": {
      "image/png": "[encoded data removed]",
      "text/plain": [
       "<Figure size 432x288 with 1 Axes>"
      ]
     },
     "metadata": {
      "needs_background": "light"
     },
     "output_type": "display_data"
    },
    {
     "name": "stdout",
     "output_type": "stream",
     "text": [
      "------------------------------------------------------------\n",
      "GameWeather\n",
      "# of unique:  61\n",
      "statistics:  count     466114\n",
      "unique        61\n",
      "top       Cloudy\n",
      "freq      114466\n",
      "Name: GameWeather, dtype: object\n",
      "value_counts: \n"
     ]
    },
    {
     "data": {
      "text/plain": [
       "Cloudy             0.224548\n",
       "Sunny              0.206033\n",
       "Partly Cloudy      0.090372\n",
       "Clear              0.086833\n",
       "NaN                0.085624\n",
       "                     ...   \n",
       "Rain Chance 40%    0.001640\n",
       "Party Cloudy       0.001597\n",
       "Sunny, Windy       0.001554\n",
       "Partly clear       0.001511\n",
       "Rainy              0.001381\n",
       "Name: GameWeather, Length: 62, dtype: float64"
      ]
     },
     "metadata": {},
     "output_type": "display_data"
    },
    {
     "data": {
      "image/png": "[encoded data removed]",
      "text/plain": [
       "<Figure size 432x288 with 1 Axes>"
      ]
     },
     "metadata": {
      "needs_background": "light"
     },
     "output_type": "display_data"
    },
    {
     "name": "stdout",
     "output_type": "stream",
     "text": [
      "------------------------------------------------------------\n",
      "Temperature\n",
      "# of unique:  78\n",
      "statistics:  count    461230.000000\n",
      "mean         60.436442\n",
      "std          17.570291\n",
      "min           9.000000\n",
      "25%          48.000000\n",
      "50%          62.000000\n",
      "75%          73.000000\n",
      "max          97.000000\n",
      "Name: Temperature, dtype: float64\n"
     ]
    },
    {
     "data": {
      "image/png": "[encoded data removed]",
      "text/plain": [
       "<Figure size 432x288 with 1 Axes>"
      ]
     },
     "metadata": {
      "needs_background": "light"
     },
     "output_type": "display_data"
    },
    {
     "name": "stdout",
     "output_type": "stream",
     "text": [
      "------------------------------------------------------------\n",
      "Humidity\n",
      "# of unique:  86\n",
      "statistics:  count    503602.000000\n",
      "mean         55.646062\n",
      "std          25.430976\n",
      "min           0.000000\n",
      "25%          43.000000\n",
      "50%          59.000000\n",
      "75%          71.000000\n",
      "max         100.000000\n",
      "Name: Humidity, dtype: float64\n"
     ]
    },
    {
     "data": {
      "image/png": "[encoded data removed]",
      "text/plain": [
       "<Figure size 432x288 with 1 Axes>"
      ]
     },
     "metadata": {
      "needs_background": "light"
     },
     "output_type": "display_data"
    },
    {
     "name": "stdout",
     "output_type": "stream",
     "text": [
      "------------------------------------------------------------\n",
      "WindSpeed\n",
      "# of unique:  58\n",
      "statistics:  count     442332.0\n",
      "unique        58.0\n",
      "top            5.0\n",
      "freq       26686.0\n",
      "Name: WindSpeed, dtype: float64\n",
      "value_counts: \n"
     ]
    },
    {
     "data": {
      "text/plain": [
       "NaN                  0.132277\n",
       "5.0                  0.052350\n",
       "7.0                  0.052264\n",
       "5                    0.052177\n",
       "6.0                  0.044727\n",
       "9.0                  0.039077\n",
       "4                    0.038928\n",
       "10.0                 0.038387\n",
       "6                    0.036841\n",
       "8.0                  0.035993\n",
       "2.0                  0.034369\n",
       "12.0                 0.033792\n",
       "3                    0.031073\n",
       "4                    0.028915\n",
       "11.0                 0.028437\n",
       "7                    0.025377\n",
       "9                    0.022379\n",
       "8                    0.021622\n",
       "3                    0.021622\n",
       "10                   0.020049\n",
       "15.0                 0.015623\n",
       "0                    0.015019\n",
       "13                   0.014415\n",
       "1                    0.013292\n",
       "2                    0.012932\n",
       "12                   0.012472\n",
       "0.0                  0.011998\n",
       "16.0                 0.011696\n",
       "15                   0.011696\n",
       "1                    0.010401\n",
       "14.0                 0.008149\n",
       "16                   0.007682\n",
       "11                   0.005140\n",
       "17.0                 0.004014\n",
       "18.0                 0.003884\n",
       "14                   0.003806\n",
       "17                   0.003582\n",
       "13 MPH               0.003539\n",
       "23                   0.002287\n",
       "E                    0.002244\n",
       "SE                   0.002201\n",
       "7 MPH                0.002158\n",
       "Calm                 0.002158\n",
       "10-20                0.002158\n",
       "13                   0.002072\n",
       "12-22                0.002072\n",
       "6 mph                0.002028\n",
       "20                   0.001985\n",
       "14-23                0.001899\n",
       "24.0                 0.001899\n",
       "12mph                0.001899\n",
       "10MPH                0.001769\n",
       "4 MPh                0.001769\n",
       "10mph                0.001769\n",
       "SSW                  0.001640\n",
       "15 gusts up to 25    0.001640\n",
       "22                   0.001640\n",
       "11-17                0.001424\n",
       "19                   0.001295\n",
       "Name: WindSpeed, dtype: float64"
      ]
     },
     "metadata": {},
     "output_type": "display_data"
    },
    {
     "data": {
      "image/png": "[encoded data removed]",
      "text/plain": [
       "<Figure size 432x288 with 1 Axes>"
      ]
     },
     "metadata": {
      "needs_background": "light"
     },
     "output_type": "display_data"
    },
    {
     "name": "stdout",
     "output_type": "stream",
     "text": [
      "------------------------------------------------------------\n",
      "WindDirection\n",
      "# of unique:  53\n",
      "statistics:  count     429528\n",
      "unique        53\n",
      "top           NE\n",
      "freq       30250\n",
      "Name: WindDirection, dtype: object\n",
      "value_counts: \n"
     ]
    },
    {
     "data": {
      "text/plain": [
       "NaN                0.157395\n",
       "NE                 0.059341\n",
       "NW                 0.053429\n",
       "SW                 0.050667\n",
       "SE                 0.050580\n",
       "WSW                0.047516\n",
       "N                  0.045488\n",
       "W                  0.043546\n",
       "S                  0.041949\n",
       "NNE                0.040007\n",
       "South              0.039877\n",
       "SSW                0.039057\n",
       "WNW                0.037504\n",
       "North              0.033706\n",
       "NNW                0.027534\n",
       "West               0.026714\n",
       "SSE                0.026240\n",
       "E                  0.025161\n",
       "ENE                0.021190\n",
       "ESE                0.019378\n",
       "East               0.014415\n",
       "Northwest          0.007984\n",
       "From SW            0.007596\n",
       "Northeast          0.007164\n",
       "NorthEast          0.006301\n",
       "From S             0.006172\n",
       "s                  0.005352\n",
       "SouthWest          0.004186\n",
       "Southeast          0.003798\n",
       "W-NW               0.003539\n",
       "Southwest          0.003539\n",
       "West-Southwest     0.002719\n",
       "8                  0.002244\n",
       "1                  0.002201\n",
       "North East         0.002158\n",
       "East Southeast     0.002115\n",
       "Calm               0.002072\n",
       "West Northwest     0.002072\n",
       "N-NE               0.001985\n",
       "From W             0.001942\n",
       "W-SW               0.001899\n",
       "From SSW           0.001899\n",
       "North/Northwest    0.001899\n",
       "From NNE           0.001899\n",
       "South Southeast    0.001856\n",
       "From WSW           0.001856\n",
       "From NNW           0.001813\n",
       "EAST               0.001769\n",
       "From SSE           0.001726\n",
       "South Southwest    0.001683\n",
       "13                 0.001640\n",
       "East North East    0.001467\n",
       "from W             0.001424\n",
       "From ESE           0.001338\n",
       "Name: WindDirection, dtype: float64"
      ]
     },
     "metadata": {},
     "output_type": "display_data"
    },
    {
     "data": {
      "image/png": "[encoded data removed]",
      "text/plain": [
       "<Figure size 432x288 with 1 Axes>"
      ]
     },
     "metadata": {
      "needs_background": "light"
     },
     "output_type": "display_data"
    }
   ],
   "source": [
    "# 中身の確認\n",
    "for col in df_train.columns:\n",
    "    print('-'*60)\n",
    "    print(col)\n",
    "    print('# of unique: ', df_train[col].nunique())\n",
    "    print('statistics: ', df_train[col].describe())\n",
    "    if df_train[col].dtype=='object':\n",
    "        print('value_counts: ')\n",
    "        val_cnt = df_train[col].value_counts(dropna=False, normalize=True).sort_values(ascending=False)\n",
    "        display(val_cnt)\n",
    "        sns.barplot(x=val_cnt.index, y=val_cnt.values)\n",
    "        plt.show()\n",
    "    else:\n",
    "        sns.distplot(df_train[col].dropna())\n",
    "        plt.show()\n",
    "\n",
    "        # log10\n",
    "        # df_train_rm0 =df_train[df_train[col]!=0][col]\n",
    "        # sns.distplot(np.log10(df_train_rm0).dropna())\n",
    "        # plt.show()"
   ]
  },
  {
   "cell_type": "code",
   "execution_count": 17,
   "metadata": {},
   "outputs": [],
   "source": [
    "# 相関行列のheatmap，重いので注意\n",
    "# sns.heatmap(df.corr(), vmax=1, vmin=-1, center=0)\n",
    "# plt.show()\n",
    "#plt.savefig('figure/heatmap_corr.png')"
   ]
  },
  {
   "cell_type": "code",
   "execution_count": 21,
   "metadata": {},
   "outputs": [
    {
     "data": {
      "text/plain": [
       "'目的変数との相関: '"
      ]
     },
     "metadata": {},
     "output_type": "display_data"
    },
    {
     "data": {
      "text/html": [
       "<div>\n",
       "<style scoped>\n",
       "    .dataframe tbody tr th:only-of-type {\n",
       "        vertical-align: middle;\n",
       "    }\n",
       "\n",
       "    .dataframe tbody tr th {\n",
       "        vertical-align: top;\n",
       "    }\n",
       "\n",
       "    .dataframe thead th {\n",
       "        text-align: right;\n",
       "    }\n",
       "</style>\n",
       "<table border=\"1\" class=\"dataframe\">\n",
       "  <thead>\n",
       "    <tr style=\"text-align: right;\">\n",
       "      <th></th>\n",
       "      <th>feature</th>\n",
       "      <th>corr_with_object</th>\n",
       "    </tr>\n",
       "  </thead>\n",
       "  <tbody>\n",
       "    <tr>\n",
       "      <th>15</th>\n",
       "      <td>Distance</td>\n",
       "      <td>0.071936</td>\n",
       "    </tr>\n",
       "    <tr>\n",
       "      <th>12</th>\n",
       "      <td>YardLine</td>\n",
       "      <td>0.064551</td>\n",
       "    </tr>\n",
       "    <tr>\n",
       "      <th>0</th>\n",
       "      <td>GameId</td>\n",
       "      <td>0.031466</td>\n",
       "    </tr>\n",
       "    <tr>\n",
       "      <th>1</th>\n",
       "      <td>PlayId</td>\n",
       "      <td>0.031466</td>\n",
       "    </tr>\n",
       "    <tr>\n",
       "      <th>11</th>\n",
       "      <td>Season</td>\n",
       "      <td>0.031350</td>\n",
       "    </tr>\n",
       "    <tr>\n",
       "      <th>5</th>\n",
       "      <td>A</td>\n",
       "      <td>0.022592</td>\n",
       "    </tr>\n",
       "    <tr>\n",
       "      <th>18</th>\n",
       "      <td>NflIdRusher</td>\n",
       "      <td>0.018997</td>\n",
       "    </tr>\n",
       "    <tr>\n",
       "      <th>17</th>\n",
       "      <td>VisitorScoreBeforePlay</td>\n",
       "      <td>0.009084</td>\n",
       "    </tr>\n",
       "    <tr>\n",
       "      <th>21</th>\n",
       "      <td>Week</td>\n",
       "      <td>0.003265</td>\n",
       "    </tr>\n",
       "    <tr>\n",
       "      <th>4</th>\n",
       "      <td>S</td>\n",
       "      <td>0.001328</td>\n",
       "    </tr>\n",
       "    <tr>\n",
       "      <th>9</th>\n",
       "      <td>NflId</td>\n",
       "      <td>0.000862</td>\n",
       "    </tr>\n",
       "    <tr>\n",
       "      <th>3</th>\n",
       "      <td>Y</td>\n",
       "      <td>-0.000281</td>\n",
       "    </tr>\n",
       "    <tr>\n",
       "      <th>6</th>\n",
       "      <td>Dis</td>\n",
       "      <td>-0.000310</td>\n",
       "    </tr>\n",
       "    <tr>\n",
       "      <th>2</th>\n",
       "      <td>X</td>\n",
       "      <td>-0.000741</td>\n",
       "    </tr>\n",
       "    <tr>\n",
       "      <th>16</th>\n",
       "      <td>HomeScoreBeforePlay</td>\n",
       "      <td>-0.004706</td>\n",
       "    </tr>\n",
       "    <tr>\n",
       "      <th>13</th>\n",
       "      <td>Quarter</td>\n",
       "      <td>-0.006733</td>\n",
       "    </tr>\n",
       "    <tr>\n",
       "      <th>10</th>\n",
       "      <td>JerseyNumber</td>\n",
       "      <td>-0.008038</td>\n",
       "    </tr>\n",
       "    <tr>\n",
       "      <th>20</th>\n",
       "      <td>PlayerWeight</td>\n",
       "      <td>-0.008862</td>\n",
       "    </tr>\n",
       "    <tr>\n",
       "      <th>14</th>\n",
       "      <td>Down</td>\n",
       "      <td>-0.021672</td>\n",
       "    </tr>\n",
       "    <tr>\n",
       "      <th>7</th>\n",
       "      <td>Orientation</td>\n",
       "      <td>NaN</td>\n",
       "    </tr>\n",
       "  </tbody>\n",
       "</table>\n",
       "</div>"
      ],
      "text/plain": [
       "                   feature  corr_with_object\n",
       "15                Distance          0.071936\n",
       "12                YardLine          0.064551\n",
       "0                   GameId          0.031466\n",
       "1                   PlayId          0.031466\n",
       "11                  Season          0.031350\n",
       "5                        A          0.022592\n",
       "18             NflIdRusher          0.018997\n",
       "17  VisitorScoreBeforePlay          0.009084\n",
       "21                    Week          0.003265\n",
       "4                        S          0.001328\n",
       "9                    NflId          0.000862\n",
       "3                        Y         -0.000281\n",
       "6                      Dis         -0.000310\n",
       "2                        X         -0.000741\n",
       "16     HomeScoreBeforePlay         -0.004706\n",
       "13                 Quarter         -0.006733\n",
       "10            JerseyNumber         -0.008038\n",
       "20            PlayerWeight         -0.008862\n",
       "14                    Down         -0.021672\n",
       "7              Orientation               NaN"
      ]
     },
     "metadata": {},
     "output_type": "display_data"
    }
   ],
   "source": [
    "# 目的変数との相関\n",
    "\n",
    "target = 'Yards'\n",
    "\n",
    "corr_list = []\n",
    "col_list = []\n",
    "for col in df_train.columns:\n",
    "    if (col not in [target]) and (df_train[col].dtype!='object'):\n",
    "        col_list.append(col)\n",
    "        corr_list.append(np.corrcoef(df_train[col], df_train[target])[0,1])\n",
    "df_train_corr = pd.DataFrame({'feature': col_list, 'corr_with_object': corr_list}).sort_values(by='corr_with_object', ascending=False)\n",
    "display('目的変数との相関: ', df_train_corr.head(20))"
   ]
  },
  {
   "cell_type": "code",
   "execution_count": null,
   "metadata": {},
   "outputs": [],
   "source": []
  }
 ],
 "metadata": {
  "file_extension": ".py",
  "kernelspec": {
   "display_name": "Python 3",
   "language": "python",
   "name": "python3"
  },
  "language_info": {
   "codemirror_mode": {
    "name": "ipython",
    "version": 3
   },
   "file_extension": ".py",
   "mimetype": "text/x-python",
   "name": "python",
   "nbconvert_exporter": "python",
   "pygments_lexer": "ipython3",
   "version": "3.6.8"
  },
  "mimetype": "text/x-python",
  "name": "python",
  "npconvert_exporter": "python",
  "pygments_lexer": "ipython3",
  "version": 3
 },
 "nbformat": 4,
 "nbformat_minor": 2
}
